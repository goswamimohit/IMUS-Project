{
 "cells": [
  {
   "cell_type": "markdown",
   "id": "00450487",
   "metadata": {},
   "source": [
    "# Project IMUS"
   ]
  },
  {
   "cell_type": "markdown",
   "id": "66f3e0b4",
   "metadata": {},
   "source": [
    "## Dataset description:"
   ]
  },
  {
   "cell_type": "markdown",
   "id": "927e4b0f",
   "metadata": {},
   "source": [
    "### What is an IMU?\n",
    "\n",
    "An inertial measurement unit (IMU) measures and reports raw or filtered angular rate and specific force/acceleration experienced by the object it is attached to. Data outputs for an IMU are typically body-frame accelerations, angular rates, and (optionally) magnetic field measurements."
   ]
  },
  {
   "cell_type": "markdown",
   "id": "8724bf91",
   "metadata": {},
   "source": [
    "## The columns of the dataset are:\n",
    "\n",
    "1. Category: The category to which this IMU belongs.\n",
    "\n",
    "2. Manufacturer: Name of the manufacturer.\n",
    "\n",
    "3. part number: Discrete part number\n",
    "\n",
    "4. sku: stock keeping unit\n",
    "\n",
    "5. alt_sku: alternate stock keeping unit\n",
    "\n",
    "6. Description: description of the product\n",
    "\n",
    "7. Status: Whether it is in stock or not\n",
    "\n",
    "8. Quantity: Quantity available\n",
    "\n",
    "9. Price: Price of the product\n",
    "\n",
    "10. sku_create_date: when was the product procured"
   ]
  },
  {
   "cell_type": "markdown",
   "id": "c7859e12",
   "metadata": {},
   "source": [
    "## Importing Related Resources"
   ]
  },
  {
   "cell_type": "code",
   "execution_count": 1,
   "id": "2763b856",
   "metadata": {},
   "outputs": [],
   "source": [
    "import pandas as pd\n",
    "import numpy as np\n",
    "pd.plotting.register_matplotlib_converters()\n",
    "import matplotlib.pyplot as plt\n",
    "%matplotlib inline\n",
    "import seaborn as sns"
   ]
  },
  {
   "cell_type": "code",
   "execution_count": 2,
   "id": "68ed0848",
   "metadata": {},
   "outputs": [],
   "source": [
    "file ='imus.xlsx'"
   ]
  },
  {
   "cell_type": "code",
   "execution_count": 3,
   "id": "58dcc5f4",
   "metadata": {},
   "outputs": [],
   "source": [
    "df = pd.concat(pd.read_excel(\"imus.xlsx\",sheet_name= None),ignore_index = True) # dedining df variable to file , merging of all sheet with concat method."
   ]
  },
  {
   "cell_type": "markdown",
   "id": "81a71904",
   "metadata": {},
   "source": [
    "## Pre-Processing"
   ]
  },
  {
   "cell_type": "markdown",
   "id": "27981fe4",
   "metadata": {},
   "source": [
    "### Intial Insepection"
   ]
  },
  {
   "cell_type": "code",
   "execution_count": 4,
   "id": "6f8252a0",
   "metadata": {},
   "outputs": [
    {
     "data": {
      "text/html": [
       "<div>\n",
       "<style scoped>\n",
       "    .dataframe tbody tr th:only-of-type {\n",
       "        vertical-align: middle;\n",
       "    }\n",
       "\n",
       "    .dataframe tbody tr th {\n",
       "        vertical-align: top;\n",
       "    }\n",
       "\n",
       "    .dataframe thead th {\n",
       "        text-align: right;\n",
       "    }\n",
       "</style>\n",
       "<table border=\"1\" class=\"dataframe\">\n",
       "  <thead>\n",
       "    <tr style=\"text-align: right;\">\n",
       "      <th></th>\n",
       "      <th>category</th>\n",
       "      <th>manufacturer</th>\n",
       "      <th>part_number</th>\n",
       "      <th>sku</th>\n",
       "      <th>alt_sku</th>\n",
       "      <th>description</th>\n",
       "      <th>status</th>\n",
       "      <th>qty</th>\n",
       "      <th>price</th>\n",
       "      <th>sku_create_date</th>\n",
       "    </tr>\n",
       "  </thead>\n",
       "  <tbody>\n",
       "    <tr>\n",
       "      <th>0</th>\n",
       "      <td>1539</td>\n",
       "      <td>MS-OPEN VALUE SUBSCRIPTION</td>\n",
       "      <td>021-09108</td>\n",
       "      <td>BA0011</td>\n",
       "      <td>NaN</td>\n",
       "      <td>1YR OFFICESTD ALNG LICSAPK OLV, D AP</td>\n",
       "      <td>No Stock</td>\n",
       "      <td>0</td>\n",
       "      <td>143.58</td>\n",
       "      <td>2020-08-17</td>\n",
       "    </tr>\n",
       "    <tr>\n",
       "      <th>1</th>\n",
       "      <td>1539</td>\n",
       "      <td>MS-OPEN VALUE SUBSCRIPTION</td>\n",
       "      <td>059-07014</td>\n",
       "      <td>BA0025</td>\n",
       "      <td>NaN</td>\n",
       "      <td>1YR WORD ALNG LICSAPK OLV D AP,</td>\n",
       "      <td>No Stock</td>\n",
       "      <td>0</td>\n",
       "      <td>56.09</td>\n",
       "      <td>2020-08-17</td>\n",
       "    </tr>\n",
       "    <tr>\n",
       "      <th>2</th>\n",
       "      <td>1539</td>\n",
       "      <td>MS-OPEN VALUE SUBSCRIPTION</td>\n",
       "      <td>065-06444</td>\n",
       "      <td>BA0039</td>\n",
       "      <td>NaN</td>\n",
       "      <td>1YR EXCEL ALNG LICSAPK OLV D AP,</td>\n",
       "      <td>No Stock</td>\n",
       "      <td>0</td>\n",
       "      <td>56.09</td>\n",
       "      <td>2020-08-17</td>\n",
       "    </tr>\n",
       "    <tr>\n",
       "      <th>3</th>\n",
       "      <td>1539</td>\n",
       "      <td>MS-OPEN VALUE SUBSCRIPTION</td>\n",
       "      <td>076-04355</td>\n",
       "      <td>BA0067</td>\n",
       "      <td>NaN</td>\n",
       "      <td>1YR PRJCT ALNG LICSAPK OLV D AP,</td>\n",
       "      <td>No Stock</td>\n",
       "      <td>0</td>\n",
       "      <td>217.60</td>\n",
       "      <td>2020-08-17</td>\n",
       "    </tr>\n",
       "    <tr>\n",
       "      <th>4</th>\n",
       "      <td>1582</td>\n",
       "      <td>MS-OPEN VALUE SUBSCRIPTION</td>\n",
       "      <td>077-05318</td>\n",
       "      <td>BA0080</td>\n",
       "      <td>NaN</td>\n",
       "      <td>1YR ACCESS ALNG LICSAPK OLV D, AP</td>\n",
       "      <td>No Stock</td>\n",
       "      <td>0</td>\n",
       "      <td>56.09</td>\n",
       "      <td>2020-08-17</td>\n",
       "    </tr>\n",
       "  </tbody>\n",
       "</table>\n",
       "</div>"
      ],
      "text/plain": [
       "   category                manufacturer part_number     sku alt_sku  \\\n",
       "0      1539  MS-OPEN VALUE SUBSCRIPTION   021-09108  BA0011     NaN   \n",
       "1      1539  MS-OPEN VALUE SUBSCRIPTION   059-07014  BA0025     NaN   \n",
       "2      1539  MS-OPEN VALUE SUBSCRIPTION   065-06444  BA0039     NaN   \n",
       "3      1539  MS-OPEN VALUE SUBSCRIPTION   076-04355  BA0067     NaN   \n",
       "4      1582  MS-OPEN VALUE SUBSCRIPTION   077-05318  BA0080     NaN   \n",
       "\n",
       "                            description    status  qty   price sku_create_date  \n",
       "0  1YR OFFICESTD ALNG LICSAPK OLV, D AP  No Stock    0  143.58      2020-08-17  \n",
       "1       1YR WORD ALNG LICSAPK OLV D AP,  No Stock    0   56.09      2020-08-17  \n",
       "2      1YR EXCEL ALNG LICSAPK OLV D AP,  No Stock    0   56.09      2020-08-17  \n",
       "3      1YR PRJCT ALNG LICSAPK OLV D AP,  No Stock    0  217.60      2020-08-17  \n",
       "4     1YR ACCESS ALNG LICSAPK OLV D, AP  No Stock    0   56.09      2020-08-17  "
      ]
     },
     "execution_count": 4,
     "metadata": {},
     "output_type": "execute_result"
    }
   ],
   "source": [
    "df.head() "
   ]
  },
  {
   "cell_type": "code",
   "execution_count": 11,
   "id": "f220f42e",
   "metadata": {},
   "outputs": [
    {
     "name": "stdout",
     "output_type": "stream",
     "text": [
      "Number of Rows and Columns in dataset (2627926, 10) .\n"
     ]
    }
   ],
   "source": [
    "print('Number of Rows and Columns in dataset',df.shape,'.')"
   ]
  },
  {
   "cell_type": "code",
   "execution_count": 18,
   "id": "4e381276",
   "metadata": {},
   "outputs": [
    {
     "name": "stdout",
     "output_type": "stream",
     "text": [
      "Data Type of each column:\n"
     ]
    },
    {
     "data": {
      "text/plain": [
       "category                    int64\n",
       "manufacturer               object\n",
       "part_number                object\n",
       "sku                        object\n",
       "alt_sku                    object\n",
       "description                object\n",
       "status                     object\n",
       "qty                         int64\n",
       "price                     float64\n",
       "sku_create_date    datetime64[ns]\n",
       "dtype: object"
      ]
     },
     "execution_count": 18,
     "metadata": {},
     "output_type": "execute_result"
    }
   ],
   "source": [
    "print('Data Type of each column:')\n",
    "df.dtypes"
   ]
  },
  {
   "cell_type": "code",
   "execution_count": 21,
   "id": "44e48f51",
   "metadata": {},
   "outputs": [
    {
     "name": "stdout",
     "output_type": "stream",
     "text": [
      "Four type of columns in dataset.\n"
     ]
    },
    {
     "data": {
      "text/plain": [
       "object            6\n",
       "int64             2\n",
       "float64           1\n",
       "datetime64[ns]    1\n",
       "dtype: int64"
      ]
     },
     "execution_count": 21,
     "metadata": {},
     "output_type": "execute_result"
    }
   ],
   "source": [
    "print('Four type of columns in dataset.')\n",
    "df.dtypes.value_counts()"
   ]
  },
  {
   "cell_type": "markdown",
   "id": "c6016dc6",
   "metadata": {},
   "source": [
    "###  Concise Summary of a DataFrame"
   ]
  },
  {
   "cell_type": "code",
   "execution_count": 19,
   "id": "a45a55d3",
   "metadata": {},
   "outputs": [
    {
     "name": "stdout",
     "output_type": "stream",
     "text": [
      "<class 'pandas.core.frame.DataFrame'>\n",
      "RangeIndex: 2627926 entries, 0 to 2627925\n",
      "Data columns (total 10 columns):\n",
      " #   Column           Dtype         \n",
      "---  ------           -----         \n",
      " 0   category         int64         \n",
      " 1   manufacturer     object        \n",
      " 2   part_number      object        \n",
      " 3   sku              object        \n",
      " 4   alt_sku          object        \n",
      " 5   description      object        \n",
      " 6   status           object        \n",
      " 7   qty              int64         \n",
      " 8   price            float64       \n",
      " 9   sku_create_date  datetime64[ns]\n",
      "dtypes: datetime64[ns](1), float64(1), int64(2), object(6)\n",
      "memory usage: 200.5+ MB\n"
     ]
    }
   ],
   "source": [
    "df.info()"
   ]
  },
  {
   "cell_type": "markdown",
   "id": "c97ddaf4",
   "metadata": {},
   "source": [
    "## Cleaning of dataset for further analysis"
   ]
  },
  {
   "cell_type": "code",
   "execution_count": 22,
   "id": "c84ab94d",
   "metadata": {},
   "outputs": [],
   "source": [
    "df = df.astype({\"category\":'category'}) # changing type of category."
   ]
  },
  {
   "cell_type": "code",
   "execution_count": null,
   "id": "48649bfe",
   "metadata": {},
   "outputs": [],
   "source": []
  },
  {
   "cell_type": "markdown",
   "id": "d035e43c",
   "metadata": {},
   "source": [
    "### Checking null type of data in dataframe"
   ]
  },
  {
   "cell_type": "code",
   "execution_count": 24,
   "id": "105d87c1",
   "metadata": {},
   "outputs": [
    {
     "data": {
      "text/plain": [
       "category                 0\n",
       "manufacturer             0\n",
       "part_number              0\n",
       "sku                      0\n",
       "alt_sku            2613442\n",
       "description              0\n",
       "status                   0\n",
       "qty                      0\n",
       "price                    0\n",
       "sku_create_date          0\n",
       "dtype: int64"
      ]
     },
     "execution_count": 24,
     "metadata": {},
     "output_type": "execute_result"
    }
   ],
   "source": [
    "df.isnull().sum()"
   ]
  },
  {
   "cell_type": "markdown",
   "id": "b8298a1b",
   "metadata": {},
   "source": [
    "lot of null value in alt_sku so better to drop it for further analysis."
   ]
  },
  {
   "cell_type": "markdown",
   "id": "f22b9216",
   "metadata": {},
   "source": [
    "### Droping extra columns"
   ]
  },
  {
   "cell_type": "code",
   "execution_count": 26,
   "id": "6ab6e437",
   "metadata": {},
   "outputs": [],
   "source": [
    "df.drop(['sku','alt_sku','description'], axis=1, inplace=True)"
   ]
  },
  {
   "cell_type": "code",
   "execution_count": 27,
   "id": "a2dc9306",
   "metadata": {},
   "outputs": [
    {
     "data": {
      "text/html": [
       "<div>\n",
       "<style scoped>\n",
       "    .dataframe tbody tr th:only-of-type {\n",
       "        vertical-align: middle;\n",
       "    }\n",
       "\n",
       "    .dataframe tbody tr th {\n",
       "        vertical-align: top;\n",
       "    }\n",
       "\n",
       "    .dataframe thead th {\n",
       "        text-align: right;\n",
       "    }\n",
       "</style>\n",
       "<table border=\"1\" class=\"dataframe\">\n",
       "  <thead>\n",
       "    <tr style=\"text-align: right;\">\n",
       "      <th></th>\n",
       "      <th>category</th>\n",
       "      <th>manufacturer</th>\n",
       "      <th>part_number</th>\n",
       "      <th>status</th>\n",
       "      <th>qty</th>\n",
       "      <th>price</th>\n",
       "      <th>sku_create_date</th>\n",
       "    </tr>\n",
       "  </thead>\n",
       "  <tbody>\n",
       "    <tr>\n",
       "      <th>0</th>\n",
       "      <td>1539</td>\n",
       "      <td>MS-OPEN VALUE SUBSCRIPTION</td>\n",
       "      <td>021-09108</td>\n",
       "      <td>No Stock</td>\n",
       "      <td>0</td>\n",
       "      <td>143.58</td>\n",
       "      <td>2020-08-17</td>\n",
       "    </tr>\n",
       "    <tr>\n",
       "      <th>1</th>\n",
       "      <td>1539</td>\n",
       "      <td>MS-OPEN VALUE SUBSCRIPTION</td>\n",
       "      <td>059-07014</td>\n",
       "      <td>No Stock</td>\n",
       "      <td>0</td>\n",
       "      <td>56.09</td>\n",
       "      <td>2020-08-17</td>\n",
       "    </tr>\n",
       "    <tr>\n",
       "      <th>2</th>\n",
       "      <td>1539</td>\n",
       "      <td>MS-OPEN VALUE SUBSCRIPTION</td>\n",
       "      <td>065-06444</td>\n",
       "      <td>No Stock</td>\n",
       "      <td>0</td>\n",
       "      <td>56.09</td>\n",
       "      <td>2020-08-17</td>\n",
       "    </tr>\n",
       "    <tr>\n",
       "      <th>3</th>\n",
       "      <td>1539</td>\n",
       "      <td>MS-OPEN VALUE SUBSCRIPTION</td>\n",
       "      <td>076-04355</td>\n",
       "      <td>No Stock</td>\n",
       "      <td>0</td>\n",
       "      <td>217.60</td>\n",
       "      <td>2020-08-17</td>\n",
       "    </tr>\n",
       "    <tr>\n",
       "      <th>4</th>\n",
       "      <td>1582</td>\n",
       "      <td>MS-OPEN VALUE SUBSCRIPTION</td>\n",
       "      <td>077-05318</td>\n",
       "      <td>No Stock</td>\n",
       "      <td>0</td>\n",
       "      <td>56.09</td>\n",
       "      <td>2020-08-17</td>\n",
       "    </tr>\n",
       "  </tbody>\n",
       "</table>\n",
       "</div>"
      ],
      "text/plain": [
       "  category                manufacturer part_number    status  qty   price  \\\n",
       "0     1539  MS-OPEN VALUE SUBSCRIPTION   021-09108  No Stock    0  143.58   \n",
       "1     1539  MS-OPEN VALUE SUBSCRIPTION   059-07014  No Stock    0   56.09   \n",
       "2     1539  MS-OPEN VALUE SUBSCRIPTION   065-06444  No Stock    0   56.09   \n",
       "3     1539  MS-OPEN VALUE SUBSCRIPTION   076-04355  No Stock    0  217.60   \n",
       "4     1582  MS-OPEN VALUE SUBSCRIPTION   077-05318  No Stock    0   56.09   \n",
       "\n",
       "  sku_create_date  \n",
       "0      2020-08-17  \n",
       "1      2020-08-17  \n",
       "2      2020-08-17  \n",
       "3      2020-08-17  \n",
       "4      2020-08-17  "
      ]
     },
     "execution_count": 27,
     "metadata": {},
     "output_type": "execute_result"
    }
   ],
   "source": [
    "df.head()"
   ]
  },
  {
   "cell_type": "markdown",
   "id": "18e9ca2a",
   "metadata": {},
   "source": [
    "### Renaming columns for convience "
   ]
  },
  {
   "cell_type": "code",
   "execution_count": 29,
   "id": "22c0206e",
   "metadata": {},
   "outputs": [],
   "source": [
    "df = df.rename(columns={'sku_create_date': 'date', 'part_number': 'product'})"
   ]
  },
  {
   "cell_type": "code",
   "execution_count": 30,
   "id": "d1581526",
   "metadata": {},
   "outputs": [
    {
     "data": {
      "text/html": [
       "<div>\n",
       "<style scoped>\n",
       "    .dataframe tbody tr th:only-of-type {\n",
       "        vertical-align: middle;\n",
       "    }\n",
       "\n",
       "    .dataframe tbody tr th {\n",
       "        vertical-align: top;\n",
       "    }\n",
       "\n",
       "    .dataframe thead th {\n",
       "        text-align: right;\n",
       "    }\n",
       "</style>\n",
       "<table border=\"1\" class=\"dataframe\">\n",
       "  <thead>\n",
       "    <tr style=\"text-align: right;\">\n",
       "      <th></th>\n",
       "      <th>category</th>\n",
       "      <th>manufacturer</th>\n",
       "      <th>product</th>\n",
       "      <th>status</th>\n",
       "      <th>qty</th>\n",
       "      <th>price</th>\n",
       "      <th>date</th>\n",
       "    </tr>\n",
       "  </thead>\n",
       "  <tbody>\n",
       "    <tr>\n",
       "      <th>0</th>\n",
       "      <td>1539</td>\n",
       "      <td>MS-OPEN VALUE SUBSCRIPTION</td>\n",
       "      <td>021-09108</td>\n",
       "      <td>No Stock</td>\n",
       "      <td>0</td>\n",
       "      <td>143.58</td>\n",
       "      <td>2020-08-17</td>\n",
       "    </tr>\n",
       "    <tr>\n",
       "      <th>1</th>\n",
       "      <td>1539</td>\n",
       "      <td>MS-OPEN VALUE SUBSCRIPTION</td>\n",
       "      <td>059-07014</td>\n",
       "      <td>No Stock</td>\n",
       "      <td>0</td>\n",
       "      <td>56.09</td>\n",
       "      <td>2020-08-17</td>\n",
       "    </tr>\n",
       "    <tr>\n",
       "      <th>2</th>\n",
       "      <td>1539</td>\n",
       "      <td>MS-OPEN VALUE SUBSCRIPTION</td>\n",
       "      <td>065-06444</td>\n",
       "      <td>No Stock</td>\n",
       "      <td>0</td>\n",
       "      <td>56.09</td>\n",
       "      <td>2020-08-17</td>\n",
       "    </tr>\n",
       "    <tr>\n",
       "      <th>3</th>\n",
       "      <td>1539</td>\n",
       "      <td>MS-OPEN VALUE SUBSCRIPTION</td>\n",
       "      <td>076-04355</td>\n",
       "      <td>No Stock</td>\n",
       "      <td>0</td>\n",
       "      <td>217.60</td>\n",
       "      <td>2020-08-17</td>\n",
       "    </tr>\n",
       "    <tr>\n",
       "      <th>4</th>\n",
       "      <td>1582</td>\n",
       "      <td>MS-OPEN VALUE SUBSCRIPTION</td>\n",
       "      <td>077-05318</td>\n",
       "      <td>No Stock</td>\n",
       "      <td>0</td>\n",
       "      <td>56.09</td>\n",
       "      <td>2020-08-17</td>\n",
       "    </tr>\n",
       "  </tbody>\n",
       "</table>\n",
       "</div>"
      ],
      "text/plain": [
       "  category                manufacturer    product    status  qty   price  \\\n",
       "0     1539  MS-OPEN VALUE SUBSCRIPTION  021-09108  No Stock    0  143.58   \n",
       "1     1539  MS-OPEN VALUE SUBSCRIPTION  059-07014  No Stock    0   56.09   \n",
       "2     1539  MS-OPEN VALUE SUBSCRIPTION  065-06444  No Stock    0   56.09   \n",
       "3     1539  MS-OPEN VALUE SUBSCRIPTION  076-04355  No Stock    0  217.60   \n",
       "4     1582  MS-OPEN VALUE SUBSCRIPTION  077-05318  No Stock    0   56.09   \n",
       "\n",
       "        date  \n",
       "0 2020-08-17  \n",
       "1 2020-08-17  \n",
       "2 2020-08-17  \n",
       "3 2020-08-17  \n",
       "4 2020-08-17  "
      ]
     },
     "execution_count": 30,
     "metadata": {},
     "output_type": "execute_result"
    }
   ],
   "source": [
    "df.head()"
   ]
  },
  {
   "cell_type": "markdown",
   "id": "0dd87e9b",
   "metadata": {},
   "source": [
    "### Dividing Dataset on basis of availablity of stock."
   ]
  },
  {
   "cell_type": "code",
   "execution_count": 33,
   "id": "2751f9a7",
   "metadata": {},
   "outputs": [
    {
     "name": "stdout",
     "output_type": "stream",
     "text": [
      "Stock availablity:\n"
     ]
    },
    {
     "data": {
      "text/plain": [
       "No Stock    1914138\n",
       "In Stock     713788\n",
       "Name: status, dtype: int64"
      ]
     },
     "execution_count": 33,
     "metadata": {},
     "output_type": "execute_result"
    }
   ],
   "source": [
    "print('Stock availablity:')\n",
    "df['status'].value_counts()"
   ]
  },
  {
   "cell_type": "code",
   "execution_count": 34,
   "id": "d2948e24",
   "metadata": {},
   "outputs": [],
   "source": [
    "df_st= df[df.status == 'In Stock']"
   ]
  },
  {
   "cell_type": "code",
   "execution_count": 35,
   "id": "0518e95b",
   "metadata": {},
   "outputs": [],
   "source": [
    "df_nos= df[df.status == 'No Stock']"
   ]
  },
  {
   "cell_type": "markdown",
   "id": "37269895",
   "metadata": {},
   "source": [
    "## For data In Stock:"
   ]
  },
  {
   "cell_type": "code",
   "execution_count": 37,
   "id": "12dcaf0f",
   "metadata": {},
   "outputs": [
    {
     "data": {
      "text/html": [
       "<div>\n",
       "<style scoped>\n",
       "    .dataframe tbody tr th:only-of-type {\n",
       "        vertical-align: middle;\n",
       "    }\n",
       "\n",
       "    .dataframe tbody tr th {\n",
       "        vertical-align: top;\n",
       "    }\n",
       "\n",
       "    .dataframe thead th {\n",
       "        text-align: right;\n",
       "    }\n",
       "</style>\n",
       "<table border=\"1\" class=\"dataframe\">\n",
       "  <thead>\n",
       "    <tr style=\"text-align: right;\">\n",
       "      <th></th>\n",
       "      <th>category</th>\n",
       "      <th>manufacturer</th>\n",
       "      <th>product</th>\n",
       "      <th>status</th>\n",
       "      <th>qty</th>\n",
       "      <th>price</th>\n",
       "      <th>date</th>\n",
       "    </tr>\n",
       "  </thead>\n",
       "  <tbody>\n",
       "    <tr>\n",
       "      <th>253</th>\n",
       "      <td>9920</td>\n",
       "      <td>CASE LOGIC-PERSONAL &amp; PORTABLE</td>\n",
       "      <td>3200943</td>\n",
       "      <td>In Stock</td>\n",
       "      <td>7</td>\n",
       "      <td>99.00</td>\n",
       "      <td>2020-08-17</td>\n",
       "    </tr>\n",
       "    <tr>\n",
       "      <th>271</th>\n",
       "      <td>531</td>\n",
       "      <td>OMNITRON SYSTEMS</td>\n",
       "      <td>7206-0</td>\n",
       "      <td>In Stock</td>\n",
       "      <td>2</td>\n",
       "      <td>59.09</td>\n",
       "      <td>2020-08-17</td>\n",
       "    </tr>\n",
       "    <tr>\n",
       "      <th>320</th>\n",
       "      <td>9070</td>\n",
       "      <td>ZEBRA ENTERPRISE MCD-A1</td>\n",
       "      <td>SAC5070-800CR</td>\n",
       "      <td>In Stock</td>\n",
       "      <td>3</td>\n",
       "      <td>500.06</td>\n",
       "      <td>2020-08-17</td>\n",
       "    </tr>\n",
       "    <tr>\n",
       "      <th>324</th>\n",
       "      <td>9080</td>\n",
       "      <td>ZEBRA ENTERPRISE MCD-A1</td>\n",
       "      <td>KT-CLMPT-RS507-01R</td>\n",
       "      <td>In Stock</td>\n",
       "      <td>115</td>\n",
       "      <td>86.34</td>\n",
       "      <td>2020-08-17</td>\n",
       "    </tr>\n",
       "    <tr>\n",
       "      <th>326</th>\n",
       "      <td>9080</td>\n",
       "      <td>ZEBRA ENTERPRISE MCD-A1</td>\n",
       "      <td>KT-PAD-RS507-10R</td>\n",
       "      <td>In Stock</td>\n",
       "      <td>42</td>\n",
       "      <td>51.80</td>\n",
       "      <td>2020-08-17</td>\n",
       "    </tr>\n",
       "  </tbody>\n",
       "</table>\n",
       "</div>"
      ],
      "text/plain": [
       "    category                    manufacturer             product    status  \\\n",
       "253     9920  CASE LOGIC-PERSONAL & PORTABLE             3200943  In Stock   \n",
       "271      531                OMNITRON SYSTEMS              7206-0  In Stock   \n",
       "320     9070         ZEBRA ENTERPRISE MCD-A1       SAC5070-800CR  In Stock   \n",
       "324     9080         ZEBRA ENTERPRISE MCD-A1  KT-CLMPT-RS507-01R  In Stock   \n",
       "326     9080         ZEBRA ENTERPRISE MCD-A1    KT-PAD-RS507-10R  In Stock   \n",
       "\n",
       "     qty   price       date  \n",
       "253    7   99.00 2020-08-17  \n",
       "271    2   59.09 2020-08-17  \n",
       "320    3  500.06 2020-08-17  \n",
       "324  115   86.34 2020-08-17  \n",
       "326   42   51.80 2020-08-17  "
      ]
     },
     "execution_count": 37,
     "metadata": {},
     "output_type": "execute_result"
    }
   ],
   "source": [
    "df_st.head()"
   ]
  },
  {
   "cell_type": "code",
   "execution_count": null,
   "id": "e93abc76",
   "metadata": {},
   "outputs": [],
   "source": [
    "df_st.drop([\"status\"], axis=1) # no need of stock column now so dropping"
   ]
  },
  {
   "cell_type": "code",
   "execution_count": 43,
   "id": "09320d62",
   "metadata": {},
   "outputs": [
    {
     "data": {
      "text/html": [
       "<div>\n",
       "<style scoped>\n",
       "    .dataframe tbody tr th:only-of-type {\n",
       "        vertical-align: middle;\n",
       "    }\n",
       "\n",
       "    .dataframe tbody tr th {\n",
       "        vertical-align: top;\n",
       "    }\n",
       "\n",
       "    .dataframe thead th {\n",
       "        text-align: right;\n",
       "    }\n",
       "</style>\n",
       "<table border=\"1\" class=\"dataframe\">\n",
       "  <thead>\n",
       "    <tr style=\"text-align: right;\">\n",
       "      <th></th>\n",
       "      <th>category</th>\n",
       "      <th>manufacturer</th>\n",
       "      <th>product</th>\n",
       "      <th>qty</th>\n",
       "      <th>price</th>\n",
       "      <th>date</th>\n",
       "    </tr>\n",
       "  </thead>\n",
       "  <tbody>\n",
       "    <tr>\n",
       "      <th>253</th>\n",
       "      <td>9920</td>\n",
       "      <td>CASE LOGIC-PERSONAL &amp; PORTABLE</td>\n",
       "      <td>3200943</td>\n",
       "      <td>7</td>\n",
       "      <td>99.00</td>\n",
       "      <td>2020-08-17</td>\n",
       "    </tr>\n",
       "    <tr>\n",
       "      <th>271</th>\n",
       "      <td>531</td>\n",
       "      <td>OMNITRON SYSTEMS</td>\n",
       "      <td>7206-0</td>\n",
       "      <td>2</td>\n",
       "      <td>59.09</td>\n",
       "      <td>2020-08-17</td>\n",
       "    </tr>\n",
       "    <tr>\n",
       "      <th>320</th>\n",
       "      <td>9070</td>\n",
       "      <td>ZEBRA ENTERPRISE MCD-A1</td>\n",
       "      <td>SAC5070-800CR</td>\n",
       "      <td>3</td>\n",
       "      <td>500.06</td>\n",
       "      <td>2020-08-17</td>\n",
       "    </tr>\n",
       "    <tr>\n",
       "      <th>324</th>\n",
       "      <td>9080</td>\n",
       "      <td>ZEBRA ENTERPRISE MCD-A1</td>\n",
       "      <td>KT-CLMPT-RS507-01R</td>\n",
       "      <td>115</td>\n",
       "      <td>86.34</td>\n",
       "      <td>2020-08-17</td>\n",
       "    </tr>\n",
       "    <tr>\n",
       "      <th>326</th>\n",
       "      <td>9080</td>\n",
       "      <td>ZEBRA ENTERPRISE MCD-A1</td>\n",
       "      <td>KT-PAD-RS507-10R</td>\n",
       "      <td>42</td>\n",
       "      <td>51.80</td>\n",
       "      <td>2020-08-17</td>\n",
       "    </tr>\n",
       "    <tr>\n",
       "      <th>...</th>\n",
       "      <td>...</td>\n",
       "      <td>...</td>\n",
       "      <td>...</td>\n",
       "      <td>...</td>\n",
       "      <td>...</td>\n",
       "      <td>...</td>\n",
       "    </tr>\n",
       "    <tr>\n",
       "      <th>2627921</th>\n",
       "      <td>9945</td>\n",
       "      <td>VERBATIM CORPORATION</td>\n",
       "      <td>93975</td>\n",
       "      <td>12</td>\n",
       "      <td>50.53</td>\n",
       "      <td>2020-08-28</td>\n",
       "    </tr>\n",
       "    <tr>\n",
       "      <th>2627922</th>\n",
       "      <td>9945</td>\n",
       "      <td>VERBATIM CORPORATION</td>\n",
       "      <td>93975</td>\n",
       "      <td>12</td>\n",
       "      <td>50.53</td>\n",
       "      <td>2020-08-28</td>\n",
       "    </tr>\n",
       "    <tr>\n",
       "      <th>2627923</th>\n",
       "      <td>9945</td>\n",
       "      <td>VERBATIM CORPORATION</td>\n",
       "      <td>93975</td>\n",
       "      <td>12</td>\n",
       "      <td>50.53</td>\n",
       "      <td>2020-08-28</td>\n",
       "    </tr>\n",
       "    <tr>\n",
       "      <th>2627924</th>\n",
       "      <td>9945</td>\n",
       "      <td>VERBATIM CORPORATION</td>\n",
       "      <td>93975</td>\n",
       "      <td>12</td>\n",
       "      <td>50.53</td>\n",
       "      <td>2020-08-28</td>\n",
       "    </tr>\n",
       "    <tr>\n",
       "      <th>2627925</th>\n",
       "      <td>9945</td>\n",
       "      <td>VERBATIM CORPORATION</td>\n",
       "      <td>93975</td>\n",
       "      <td>12</td>\n",
       "      <td>50.53</td>\n",
       "      <td>2020-08-28</td>\n",
       "    </tr>\n",
       "  </tbody>\n",
       "</table>\n",
       "<p>713788 rows × 6 columns</p>\n",
       "</div>"
      ],
      "text/plain": [
       "        category                    manufacturer             product  qty  \\\n",
       "253         9920  CASE LOGIC-PERSONAL & PORTABLE             3200943    7   \n",
       "271          531                OMNITRON SYSTEMS              7206-0    2   \n",
       "320         9070         ZEBRA ENTERPRISE MCD-A1       SAC5070-800CR    3   \n",
       "324         9080         ZEBRA ENTERPRISE MCD-A1  KT-CLMPT-RS507-01R  115   \n",
       "326         9080         ZEBRA ENTERPRISE MCD-A1    KT-PAD-RS507-10R   42   \n",
       "...          ...                             ...                 ...  ...   \n",
       "2627921     9945            VERBATIM CORPORATION               93975   12   \n",
       "2627922     9945            VERBATIM CORPORATION               93975   12   \n",
       "2627923     9945            VERBATIM CORPORATION               93975   12   \n",
       "2627924     9945            VERBATIM CORPORATION               93975   12   \n",
       "2627925     9945            VERBATIM CORPORATION               93975   12   \n",
       "\n",
       "          price       date  \n",
       "253       99.00 2020-08-17  \n",
       "271       59.09 2020-08-17  \n",
       "320      500.06 2020-08-17  \n",
       "324       86.34 2020-08-17  \n",
       "326       51.80 2020-08-17  \n",
       "...         ...        ...  \n",
       "2627921   50.53 2020-08-28  \n",
       "2627922   50.53 2020-08-28  \n",
       "2627923   50.53 2020-08-28  \n",
       "2627924   50.53 2020-08-28  \n",
       "2627925   50.53 2020-08-28  \n",
       "\n",
       "[713788 rows x 6 columns]"
      ]
     },
     "execution_count": 43,
     "metadata": {},
     "output_type": "execute_result"
    }
   ],
   "source": [
    "df_st"
   ]
  },
  {
   "cell_type": "markdown",
   "id": "4a315cd7",
   "metadata": {},
   "source": [
    "### 1. Which are the top Manufacturers with price, quantity?"
   ]
  },
  {
   "cell_type": "code",
   "execution_count": 51,
   "id": "53d81202",
   "metadata": {},
   "outputs": [],
   "source": [
    "mfg_grp = df_st.groupby('manufacturer').sum()#groupby with mfg column"
   ]
  },
  {
   "cell_type": "code",
   "execution_count": 46,
   "id": "73d99de7",
   "metadata": {},
   "outputs": [],
   "source": [
    "mfg_sort = mfg_grp.sort_values(by=['qty', 'price'],ascending= False)[:10]#sorting by qantity and price"
   ]
  },
  {
   "cell_type": "code",
   "execution_count": 47,
   "id": "1e2f8975",
   "metadata": {},
   "outputs": [],
   "source": [
    "mfg_sort_in = mfg_sort.reset_index()#resetting of index"
   ]
  },
  {
   "cell_type": "code",
   "execution_count": 48,
   "id": "eb6ae3d3",
   "metadata": {},
   "outputs": [
    {
     "data": {
      "text/html": [
       "<div>\n",
       "<style scoped>\n",
       "    .dataframe tbody tr th:only-of-type {\n",
       "        vertical-align: middle;\n",
       "    }\n",
       "\n",
       "    .dataframe tbody tr th {\n",
       "        vertical-align: top;\n",
       "    }\n",
       "\n",
       "    .dataframe thead th {\n",
       "        text-align: right;\n",
       "    }\n",
       "</style>\n",
       "<table border=\"1\" class=\"dataframe\">\n",
       "  <thead>\n",
       "    <tr style=\"text-align: right;\">\n",
       "      <th></th>\n",
       "      <th>manufacturer</th>\n",
       "      <th>qty</th>\n",
       "      <th>price</th>\n",
       "    </tr>\n",
       "  </thead>\n",
       "  <tbody>\n",
       "    <tr>\n",
       "      <th>0</th>\n",
       "      <td>STARTECH.COM</td>\n",
       "      <td>16069681</td>\n",
       "      <td>7266737.29</td>\n",
       "    </tr>\n",
       "    <tr>\n",
       "      <th>1</th>\n",
       "      <td>DELL CSG SERVICE WARRANTIES</td>\n",
       "      <td>13578833</td>\n",
       "      <td>150917.91</td>\n",
       "    </tr>\n",
       "    <tr>\n",
       "      <th>2</th>\n",
       "      <td>TRIPP LITE CONNECTIVITY</td>\n",
       "      <td>8283765</td>\n",
       "      <td>768146.62</td>\n",
       "    </tr>\n",
       "    <tr>\n",
       "      <th>3</th>\n",
       "      <td>LOGITECH - COMPUTER ACCESSORIES</td>\n",
       "      <td>8251159</td>\n",
       "      <td>1005042.67</td>\n",
       "    </tr>\n",
       "    <tr>\n",
       "      <th>4</th>\n",
       "      <td>JABRA BUSINESS</td>\n",
       "      <td>4829490</td>\n",
       "      <td>392963.51</td>\n",
       "    </tr>\n",
       "    <tr>\n",
       "      <th>5</th>\n",
       "      <td>PLANTRONICS INC</td>\n",
       "      <td>3825984</td>\n",
       "      <td>703634.71</td>\n",
       "    </tr>\n",
       "    <tr>\n",
       "      <th>6</th>\n",
       "      <td>CONFIG 6</td>\n",
       "      <td>3825896</td>\n",
       "      <td>2140.78</td>\n",
       "    </tr>\n",
       "    <tr>\n",
       "      <th>7</th>\n",
       "      <td>BELKIN - CABLES</td>\n",
       "      <td>3508335</td>\n",
       "      <td>262931.76</td>\n",
       "    </tr>\n",
       "    <tr>\n",
       "      <th>8</th>\n",
       "      <td>DELL ESG WARRANTIES</td>\n",
       "      <td>3149689</td>\n",
       "      <td>173018.32</td>\n",
       "    </tr>\n",
       "    <tr>\n",
       "      <th>9</th>\n",
       "      <td>EPOS</td>\n",
       "      <td>3127008</td>\n",
       "      <td>1127406.70</td>\n",
       "    </tr>\n",
       "  </tbody>\n",
       "</table>\n",
       "</div>"
      ],
      "text/plain": [
       "                      manufacturer       qty       price\n",
       "0                     STARTECH.COM  16069681  7266737.29\n",
       "1      DELL CSG SERVICE WARRANTIES  13578833   150917.91\n",
       "2          TRIPP LITE CONNECTIVITY   8283765   768146.62\n",
       "3  LOGITECH - COMPUTER ACCESSORIES   8251159  1005042.67\n",
       "4                   JABRA BUSINESS   4829490   392963.51\n",
       "5                  PLANTRONICS INC   3825984   703634.71\n",
       "6                         CONFIG 6   3825896     2140.78\n",
       "7                  BELKIN - CABLES   3508335   262931.76\n",
       "8              DELL ESG WARRANTIES   3149689   173018.32\n",
       "9                             EPOS   3127008  1127406.70"
      ]
     },
     "execution_count": 48,
     "metadata": {},
     "output_type": "execute_result"
    }
   ],
   "source": [
    "mfg_sort_in"
   ]
  },
  {
   "cell_type": "code",
   "execution_count": 50,
   "id": "3ab97a19",
   "metadata": {},
   "outputs": [
    {
     "data": {
      "image/png": "[encoded data removed]",
      "text/plain": [
       "<Figure size 842.4x595.44 with 1 Axes>"
      ]
     },
     "metadata": {},
     "output_type": "display_data"
    }
   ],
   "source": [
    "sns.set(rc={'figure.figsize':(11.7,8.27)}) #bar plot\n",
    "top_mfg_qty_price = sns.barplot(x = 'qty',y = 'price',hue=\"manufacturer\",  data= mfg_sort_in).set(title='Top Manufacturers with Price, Quantity')"
   ]
  },
  {
   "cell_type": "code",
   "execution_count": null,
   "id": "28b26301",
   "metadata": {},
   "outputs": [],
   "source": []
  },
  {
   "cell_type": "markdown",
   "id": "f83d853b",
   "metadata": {},
   "source": [
    "### 2. Which are the most profitable products?"
   ]
  },
  {
   "cell_type": "code",
   "execution_count": 52,
   "id": "40d84df6",
   "metadata": {},
   "outputs": [
    {
     "name": "stderr",
     "output_type": "stream",
     "text": [
      "C:\\Users\\Mohit\\AppData\\Local\\Temp/ipykernel_7272/1120783067.py:1: SettingWithCopyWarning: \n",
      "A value is trying to be set on a copy of a slice from a DataFrame.\n",
      "Try using .loc[row_indexer,col_indexer] = value instead\n",
      "\n",
      "See the caveats in the documentation: https://pandas.pydata.org/pandas-docs/stable/user_guide/indexing.html#returning-a-view-versus-a-copy\n",
      "  df_st['Total_Price'] =df_st['qty']*df_st['price']\n"
     ]
    }
   ],
   "source": [
    "df_st['Total_Price'] =df_st['qty']*df_st['price'] # multiplying quantity with price for total price"
   ]
  },
  {
   "cell_type": "code",
   "execution_count": 53,
   "id": "9dafabfc",
   "metadata": {},
   "outputs": [
    {
     "data": {
      "text/html": [
       "<div>\n",
       "<style scoped>\n",
       "    .dataframe tbody tr th:only-of-type {\n",
       "        vertical-align: middle;\n",
       "    }\n",
       "\n",
       "    .dataframe tbody tr th {\n",
       "        vertical-align: top;\n",
       "    }\n",
       "\n",
       "    .dataframe thead th {\n",
       "        text-align: right;\n",
       "    }\n",
       "</style>\n",
       "<table border=\"1\" class=\"dataframe\">\n",
       "  <thead>\n",
       "    <tr style=\"text-align: right;\">\n",
       "      <th></th>\n",
       "      <th>category</th>\n",
       "      <th>manufacturer</th>\n",
       "      <th>product</th>\n",
       "      <th>qty</th>\n",
       "      <th>price</th>\n",
       "      <th>date</th>\n",
       "      <th>Total_Price</th>\n",
       "    </tr>\n",
       "  </thead>\n",
       "  <tbody>\n",
       "    <tr>\n",
       "      <th>253</th>\n",
       "      <td>9920</td>\n",
       "      <td>CASE LOGIC-PERSONAL &amp; PORTABLE</td>\n",
       "      <td>3200943</td>\n",
       "      <td>7</td>\n",
       "      <td>99.00</td>\n",
       "      <td>2020-08-17</td>\n",
       "      <td>693.00</td>\n",
       "    </tr>\n",
       "    <tr>\n",
       "      <th>271</th>\n",
       "      <td>531</td>\n",
       "      <td>OMNITRON SYSTEMS</td>\n",
       "      <td>7206-0</td>\n",
       "      <td>2</td>\n",
       "      <td>59.09</td>\n",
       "      <td>2020-08-17</td>\n",
       "      <td>118.18</td>\n",
       "    </tr>\n",
       "    <tr>\n",
       "      <th>320</th>\n",
       "      <td>9070</td>\n",
       "      <td>ZEBRA ENTERPRISE MCD-A1</td>\n",
       "      <td>SAC5070-800CR</td>\n",
       "      <td>3</td>\n",
       "      <td>500.06</td>\n",
       "      <td>2020-08-17</td>\n",
       "      <td>1500.18</td>\n",
       "    </tr>\n",
       "    <tr>\n",
       "      <th>324</th>\n",
       "      <td>9080</td>\n",
       "      <td>ZEBRA ENTERPRISE MCD-A1</td>\n",
       "      <td>KT-CLMPT-RS507-01R</td>\n",
       "      <td>115</td>\n",
       "      <td>86.34</td>\n",
       "      <td>2020-08-17</td>\n",
       "      <td>9929.10</td>\n",
       "    </tr>\n",
       "    <tr>\n",
       "      <th>326</th>\n",
       "      <td>9080</td>\n",
       "      <td>ZEBRA ENTERPRISE MCD-A1</td>\n",
       "      <td>KT-PAD-RS507-10R</td>\n",
       "      <td>42</td>\n",
       "      <td>51.80</td>\n",
       "      <td>2020-08-17</td>\n",
       "      <td>2175.60</td>\n",
       "    </tr>\n",
       "    <tr>\n",
       "      <th>...</th>\n",
       "      <td>...</td>\n",
       "      <td>...</td>\n",
       "      <td>...</td>\n",
       "      <td>...</td>\n",
       "      <td>...</td>\n",
       "      <td>...</td>\n",
       "      <td>...</td>\n",
       "    </tr>\n",
       "    <tr>\n",
       "      <th>2627921</th>\n",
       "      <td>9945</td>\n",
       "      <td>VERBATIM CORPORATION</td>\n",
       "      <td>93975</td>\n",
       "      <td>12</td>\n",
       "      <td>50.53</td>\n",
       "      <td>2020-08-28</td>\n",
       "      <td>606.36</td>\n",
       "    </tr>\n",
       "    <tr>\n",
       "      <th>2627922</th>\n",
       "      <td>9945</td>\n",
       "      <td>VERBATIM CORPORATION</td>\n",
       "      <td>93975</td>\n",
       "      <td>12</td>\n",
       "      <td>50.53</td>\n",
       "      <td>2020-08-28</td>\n",
       "      <td>606.36</td>\n",
       "    </tr>\n",
       "    <tr>\n",
       "      <th>2627923</th>\n",
       "      <td>9945</td>\n",
       "      <td>VERBATIM CORPORATION</td>\n",
       "      <td>93975</td>\n",
       "      <td>12</td>\n",
       "      <td>50.53</td>\n",
       "      <td>2020-08-28</td>\n",
       "      <td>606.36</td>\n",
       "    </tr>\n",
       "    <tr>\n",
       "      <th>2627924</th>\n",
       "      <td>9945</td>\n",
       "      <td>VERBATIM CORPORATION</td>\n",
       "      <td>93975</td>\n",
       "      <td>12</td>\n",
       "      <td>50.53</td>\n",
       "      <td>2020-08-28</td>\n",
       "      <td>606.36</td>\n",
       "    </tr>\n",
       "    <tr>\n",
       "      <th>2627925</th>\n",
       "      <td>9945</td>\n",
       "      <td>VERBATIM CORPORATION</td>\n",
       "      <td>93975</td>\n",
       "      <td>12</td>\n",
       "      <td>50.53</td>\n",
       "      <td>2020-08-28</td>\n",
       "      <td>606.36</td>\n",
       "    </tr>\n",
       "  </tbody>\n",
       "</table>\n",
       "<p>713788 rows × 7 columns</p>\n",
       "</div>"
      ],
      "text/plain": [
       "        category                    manufacturer             product  qty  \\\n",
       "253         9920  CASE LOGIC-PERSONAL & PORTABLE             3200943    7   \n",
       "271          531                OMNITRON SYSTEMS              7206-0    2   \n",
       "320         9070         ZEBRA ENTERPRISE MCD-A1       SAC5070-800CR    3   \n",
       "324         9080         ZEBRA ENTERPRISE MCD-A1  KT-CLMPT-RS507-01R  115   \n",
       "326         9080         ZEBRA ENTERPRISE MCD-A1    KT-PAD-RS507-10R   42   \n",
       "...          ...                             ...                 ...  ...   \n",
       "2627921     9945            VERBATIM CORPORATION               93975   12   \n",
       "2627922     9945            VERBATIM CORPORATION               93975   12   \n",
       "2627923     9945            VERBATIM CORPORATION               93975   12   \n",
       "2627924     9945            VERBATIM CORPORATION               93975   12   \n",
       "2627925     9945            VERBATIM CORPORATION               93975   12   \n",
       "\n",
       "          price       date  Total_Price  \n",
       "253       99.00 2020-08-17       693.00  \n",
       "271       59.09 2020-08-17       118.18  \n",
       "320      500.06 2020-08-17      1500.18  \n",
       "324       86.34 2020-08-17      9929.10  \n",
       "326       51.80 2020-08-17      2175.60  \n",
       "...         ...        ...          ...  \n",
       "2627921   50.53 2020-08-28       606.36  \n",
       "2627922   50.53 2020-08-28       606.36  \n",
       "2627923   50.53 2020-08-28       606.36  \n",
       "2627924   50.53 2020-08-28       606.36  \n",
       "2627925   50.53 2020-08-28       606.36  \n",
       "\n",
       "[713788 rows x 7 columns]"
      ]
     },
     "execution_count": 53,
     "metadata": {},
     "output_type": "execute_result"
    }
   ],
   "source": [
    "df_st"
   ]
  },
  {
   "cell_type": "code",
   "execution_count": 54,
   "id": "f132cc45",
   "metadata": {},
   "outputs": [],
   "source": [
    "pr_tot_grp = df_st.groupby(['product','Total_Price'])# groupby product with total price"
   ]
  },
  {
   "cell_type": "code",
   "execution_count": 55,
   "id": "144ce5d2",
   "metadata": {},
   "outputs": [],
   "source": [
    "top_sort = pr_tot_grp.sum().sort_values(by='Total_Price',ascending=[False])[:10] # sorting with respet to tota price column"
   ]
  },
  {
   "cell_type": "code",
   "execution_count": 56,
   "id": "3827546e",
   "metadata": {},
   "outputs": [],
   "source": [
    "most_profitable_products = top_sort.reset_index() #resetting of index"
   ]
  },
  {
   "cell_type": "code",
   "execution_count": 57,
   "id": "a3f07e2a",
   "metadata": {},
   "outputs": [
    {
     "data": {
      "image/png": "[encoded data removed]",
      "text/plain": [
       "<Figure size 842.4x595.44 with 1 Axes>"
      ]
     },
     "metadata": {},
     "output_type": "display_data"
    }
   ],
   "source": [
    "profit_product = sns.barplot(x = 'product',y = 'Total_Price',data = most_profitable_products).set(title='most_profitables_products')"
   ]
  },
  {
   "cell_type": "code",
   "execution_count": null,
   "id": "3fc7c492",
   "metadata": {},
   "outputs": [],
   "source": []
  },
  {
   "cell_type": "markdown",
   "id": "9593a55e",
   "metadata": {},
   "source": [
    "### 3. Which is the product where you have seen a decrease in the price?"
   ]
  },
  {
   "cell_type": "code",
   "execution_count": 58,
   "id": "183bfab2",
   "metadata": {},
   "outputs": [
    {
     "data": {
      "text/html": [
       "<div>\n",
       "<style scoped>\n",
       "    .dataframe tbody tr th:only-of-type {\n",
       "        vertical-align: middle;\n",
       "    }\n",
       "\n",
       "    .dataframe tbody tr th {\n",
       "        vertical-align: top;\n",
       "    }\n",
       "\n",
       "    .dataframe thead th {\n",
       "        text-align: right;\n",
       "    }\n",
       "</style>\n",
       "<table border=\"1\" class=\"dataframe\">\n",
       "  <thead>\n",
       "    <tr style=\"text-align: right;\">\n",
       "      <th></th>\n",
       "      <th>category</th>\n",
       "      <th>manufacturer</th>\n",
       "      <th>product</th>\n",
       "      <th>qty</th>\n",
       "      <th>price</th>\n",
       "      <th>date</th>\n",
       "      <th>Total_Price</th>\n",
       "    </tr>\n",
       "  </thead>\n",
       "  <tbody>\n",
       "    <tr>\n",
       "      <th>253</th>\n",
       "      <td>9920</td>\n",
       "      <td>CASE LOGIC-PERSONAL &amp; PORTABLE</td>\n",
       "      <td>3200943</td>\n",
       "      <td>7</td>\n",
       "      <td>99.00</td>\n",
       "      <td>2020-08-17</td>\n",
       "      <td>693.00</td>\n",
       "    </tr>\n",
       "    <tr>\n",
       "      <th>271</th>\n",
       "      <td>531</td>\n",
       "      <td>OMNITRON SYSTEMS</td>\n",
       "      <td>7206-0</td>\n",
       "      <td>2</td>\n",
       "      <td>59.09</td>\n",
       "      <td>2020-08-17</td>\n",
       "      <td>118.18</td>\n",
       "    </tr>\n",
       "    <tr>\n",
       "      <th>320</th>\n",
       "      <td>9070</td>\n",
       "      <td>ZEBRA ENTERPRISE MCD-A1</td>\n",
       "      <td>SAC5070-800CR</td>\n",
       "      <td>3</td>\n",
       "      <td>500.06</td>\n",
       "      <td>2020-08-17</td>\n",
       "      <td>1500.18</td>\n",
       "    </tr>\n",
       "    <tr>\n",
       "      <th>324</th>\n",
       "      <td>9080</td>\n",
       "      <td>ZEBRA ENTERPRISE MCD-A1</td>\n",
       "      <td>KT-CLMPT-RS507-01R</td>\n",
       "      <td>115</td>\n",
       "      <td>86.34</td>\n",
       "      <td>2020-08-17</td>\n",
       "      <td>9929.10</td>\n",
       "    </tr>\n",
       "    <tr>\n",
       "      <th>326</th>\n",
       "      <td>9080</td>\n",
       "      <td>ZEBRA ENTERPRISE MCD-A1</td>\n",
       "      <td>KT-PAD-RS507-10R</td>\n",
       "      <td>42</td>\n",
       "      <td>51.80</td>\n",
       "      <td>2020-08-17</td>\n",
       "      <td>2175.60</td>\n",
       "    </tr>\n",
       "    <tr>\n",
       "      <th>...</th>\n",
       "      <td>...</td>\n",
       "      <td>...</td>\n",
       "      <td>...</td>\n",
       "      <td>...</td>\n",
       "      <td>...</td>\n",
       "      <td>...</td>\n",
       "      <td>...</td>\n",
       "    </tr>\n",
       "    <tr>\n",
       "      <th>2627921</th>\n",
       "      <td>9945</td>\n",
       "      <td>VERBATIM CORPORATION</td>\n",
       "      <td>93975</td>\n",
       "      <td>12</td>\n",
       "      <td>50.53</td>\n",
       "      <td>2020-08-28</td>\n",
       "      <td>606.36</td>\n",
       "    </tr>\n",
       "    <tr>\n",
       "      <th>2627922</th>\n",
       "      <td>9945</td>\n",
       "      <td>VERBATIM CORPORATION</td>\n",
       "      <td>93975</td>\n",
       "      <td>12</td>\n",
       "      <td>50.53</td>\n",
       "      <td>2020-08-28</td>\n",
       "      <td>606.36</td>\n",
       "    </tr>\n",
       "    <tr>\n",
       "      <th>2627923</th>\n",
       "      <td>9945</td>\n",
       "      <td>VERBATIM CORPORATION</td>\n",
       "      <td>93975</td>\n",
       "      <td>12</td>\n",
       "      <td>50.53</td>\n",
       "      <td>2020-08-28</td>\n",
       "      <td>606.36</td>\n",
       "    </tr>\n",
       "    <tr>\n",
       "      <th>2627924</th>\n",
       "      <td>9945</td>\n",
       "      <td>VERBATIM CORPORATION</td>\n",
       "      <td>93975</td>\n",
       "      <td>12</td>\n",
       "      <td>50.53</td>\n",
       "      <td>2020-08-28</td>\n",
       "      <td>606.36</td>\n",
       "    </tr>\n",
       "    <tr>\n",
       "      <th>2627925</th>\n",
       "      <td>9945</td>\n",
       "      <td>VERBATIM CORPORATION</td>\n",
       "      <td>93975</td>\n",
       "      <td>12</td>\n",
       "      <td>50.53</td>\n",
       "      <td>2020-08-28</td>\n",
       "      <td>606.36</td>\n",
       "    </tr>\n",
       "  </tbody>\n",
       "</table>\n",
       "<p>713788 rows × 7 columns</p>\n",
       "</div>"
      ],
      "text/plain": [
       "        category                    manufacturer             product  qty  \\\n",
       "253         9920  CASE LOGIC-PERSONAL & PORTABLE             3200943    7   \n",
       "271          531                OMNITRON SYSTEMS              7206-0    2   \n",
       "320         9070         ZEBRA ENTERPRISE MCD-A1       SAC5070-800CR    3   \n",
       "324         9080         ZEBRA ENTERPRISE MCD-A1  KT-CLMPT-RS507-01R  115   \n",
       "326         9080         ZEBRA ENTERPRISE MCD-A1    KT-PAD-RS507-10R   42   \n",
       "...          ...                             ...                 ...  ...   \n",
       "2627921     9945            VERBATIM CORPORATION               93975   12   \n",
       "2627922     9945            VERBATIM CORPORATION               93975   12   \n",
       "2627923     9945            VERBATIM CORPORATION               93975   12   \n",
       "2627924     9945            VERBATIM CORPORATION               93975   12   \n",
       "2627925     9945            VERBATIM CORPORATION               93975   12   \n",
       "\n",
       "          price       date  Total_Price  \n",
       "253       99.00 2020-08-17       693.00  \n",
       "271       59.09 2020-08-17       118.18  \n",
       "320      500.06 2020-08-17      1500.18  \n",
       "324       86.34 2020-08-17      9929.10  \n",
       "326       51.80 2020-08-17      2175.60  \n",
       "...         ...        ...          ...  \n",
       "2627921   50.53 2020-08-28       606.36  \n",
       "2627922   50.53 2020-08-28       606.36  \n",
       "2627923   50.53 2020-08-28       606.36  \n",
       "2627924   50.53 2020-08-28       606.36  \n",
       "2627925   50.53 2020-08-28       606.36  \n",
       "\n",
       "[713788 rows x 7 columns]"
      ]
     },
     "execution_count": 58,
     "metadata": {},
     "output_type": "execute_result"
    }
   ],
   "source": [
    "df_st"
   ]
  },
  {
   "cell_type": "code",
   "execution_count": 59,
   "id": "0c24ce3a",
   "metadata": {},
   "outputs": [],
   "source": [
    "pric_01 = df_st.drop(['manufacturer', 'category','qty',\"Total_Price\"], axis=1) #droping avoidable columns"
   ]
  },
  {
   "cell_type": "code",
   "execution_count": 60,
   "id": "37d68428",
   "metadata": {},
   "outputs": [
    {
     "name": "stdout",
     "output_type": "stream",
     "text": [
      "<class 'pandas.core.frame.DataFrame'>\n",
      "Int64Index: 713788 entries, 253 to 2627925\n",
      "Data columns (total 3 columns):\n",
      " #   Column   Non-Null Count   Dtype         \n",
      "---  ------   --------------   -----         \n",
      " 0   product  713788 non-null  object        \n",
      " 1   price    713788 non-null  float64       \n",
      " 2   date     713788 non-null  datetime64[ns]\n",
      "dtypes: datetime64[ns](1), float64(1), object(1)\n",
      "memory usage: 21.8+ MB\n"
     ]
    }
   ],
   "source": [
    "pric_01.info()"
   ]
  },
  {
   "cell_type": "code",
   "execution_count": 61,
   "id": "7b5b9678",
   "metadata": {},
   "outputs": [],
   "source": [
    "p_max = pric_01.loc[pric_01.groupby('product').date.idxmax(),:] #price according to recent date"
   ]
  },
  {
   "cell_type": "code",
   "execution_count": 66,
   "id": "228e8b97",
   "metadata": {},
   "outputs": [],
   "source": [
    "p_min = pric_01.loc[pric_01.groupby('product').date.idxmin(),:] # price on intial date"
   ]
  },
  {
   "cell_type": "code",
   "execution_count": 62,
   "id": "8b4fb127",
   "metadata": {},
   "outputs": [],
   "source": [
    "p_max['price_max'] =p_max['price'] # new column"
   ]
  },
  {
   "cell_type": "code",
   "execution_count": 67,
   "id": "9034ef93",
   "metadata": {},
   "outputs": [],
   "source": [
    "p_min['price_min'] =p_min['price']  # new column"
   ]
  },
  {
   "cell_type": "code",
   "execution_count": 63,
   "id": "64e5f559",
   "metadata": {},
   "outputs": [
    {
     "data": {
      "text/html": [
       "<div>\n",
       "<style scoped>\n",
       "    .dataframe tbody tr th:only-of-type {\n",
       "        vertical-align: middle;\n",
       "    }\n",
       "\n",
       "    .dataframe tbody tr th {\n",
       "        vertical-align: top;\n",
       "    }\n",
       "\n",
       "    .dataframe thead th {\n",
       "        text-align: right;\n",
       "    }\n",
       "</style>\n",
       "<table border=\"1\" class=\"dataframe\">\n",
       "  <thead>\n",
       "    <tr style=\"text-align: right;\">\n",
       "      <th></th>\n",
       "      <th>product</th>\n",
       "      <th>price</th>\n",
       "      <th>date</th>\n",
       "      <th>price_max</th>\n",
       "    </tr>\n",
       "  </thead>\n",
       "  <tbody>\n",
       "    <tr>\n",
       "      <th>1728303</th>\n",
       "      <td>0-00496</td>\n",
       "      <td>59.62</td>\n",
       "      <td>2020-08-24</td>\n",
       "      <td>59.62</td>\n",
       "    </tr>\n",
       "    <tr>\n",
       "      <th>463475</th>\n",
       "      <td>0-00498</td>\n",
       "      <td>96.65</td>\n",
       "      <td>2020-08-17</td>\n",
       "      <td>96.65</td>\n",
       "    </tr>\n",
       "    <tr>\n",
       "      <th>2098347</th>\n",
       "      <td>003-000884-01-OE</td>\n",
       "      <td>398.68</td>\n",
       "      <td>2020-08-24</td>\n",
       "      <td>398.68</td>\n",
       "    </tr>\n",
       "    <tr>\n",
       "      <th>1438732</th>\n",
       "      <td>00385</td>\n",
       "      <td>1.80</td>\n",
       "      <td>2020-08-24</td>\n",
       "      <td>1.80</td>\n",
       "    </tr>\n",
       "    <tr>\n",
       "      <th>1438760</th>\n",
       "      <td>00388</td>\n",
       "      <td>2.48</td>\n",
       "      <td>2020-08-24</td>\n",
       "      <td>2.48</td>\n",
       "    </tr>\n",
       "    <tr>\n",
       "      <th>...</th>\n",
       "      <td>...</td>\n",
       "      <td>...</td>\n",
       "      <td>...</td>\n",
       "      <td>...</td>\n",
       "    </tr>\n",
       "    <tr>\n",
       "      <th>1731234</th>\n",
       "      <td>ZT62062-T01A100Z</td>\n",
       "      <td>4001.17</td>\n",
       "      <td>2020-08-24</td>\n",
       "      <td>4001.17</td>\n",
       "    </tr>\n",
       "    <tr>\n",
       "      <th>2356040</th>\n",
       "      <td>ZT62063-T010100Z</td>\n",
       "      <td>3797.41</td>\n",
       "      <td>2020-08-25</td>\n",
       "      <td>3797.41</td>\n",
       "    </tr>\n",
       "    <tr>\n",
       "      <th>1731241</th>\n",
       "      <td>ZT62063-T01A100Z</td>\n",
       "      <td>4140.69</td>\n",
       "      <td>2020-08-24</td>\n",
       "      <td>4140.69</td>\n",
       "    </tr>\n",
       "    <tr>\n",
       "      <th>1731246</th>\n",
       "      <td>ZT62063-T110100Z</td>\n",
       "      <td>4344.44</td>\n",
       "      <td>2020-08-24</td>\n",
       "      <td>4344.44</td>\n",
       "    </tr>\n",
       "    <tr>\n",
       "      <th>1741603</th>\n",
       "      <td>ZUCUBJCK</td>\n",
       "      <td>16.74</td>\n",
       "      <td>2020-08-24</td>\n",
       "      <td>16.74</td>\n",
       "    </tr>\n",
       "  </tbody>\n",
       "</table>\n",
       "<p>30672 rows × 4 columns</p>\n",
       "</div>"
      ],
      "text/plain": [
       "                  product    price       date  price_max\n",
       "1728303           0-00496    59.62 2020-08-24      59.62\n",
       "463475            0-00498    96.65 2020-08-17      96.65\n",
       "2098347  003-000884-01-OE   398.68 2020-08-24     398.68\n",
       "1438732             00385     1.80 2020-08-24       1.80\n",
       "1438760             00388     2.48 2020-08-24       2.48\n",
       "...                   ...      ...        ...        ...\n",
       "1731234  ZT62062-T01A100Z  4001.17 2020-08-24    4001.17\n",
       "2356040  ZT62063-T010100Z  3797.41 2020-08-25    3797.41\n",
       "1731241  ZT62063-T01A100Z  4140.69 2020-08-24    4140.69\n",
       "1731246  ZT62063-T110100Z  4344.44 2020-08-24    4344.44\n",
       "1741603          ZUCUBJCK    16.74 2020-08-24      16.74\n",
       "\n",
       "[30672 rows x 4 columns]"
      ]
     },
     "execution_count": 63,
     "metadata": {},
     "output_type": "execute_result"
    }
   ],
   "source": [
    "p_max"
   ]
  },
  {
   "cell_type": "code",
   "execution_count": 68,
   "id": "cd6bc6dd",
   "metadata": {},
   "outputs": [
    {
     "data": {
      "text/html": [
       "<div>\n",
       "<style scoped>\n",
       "    .dataframe tbody tr th:only-of-type {\n",
       "        vertical-align: middle;\n",
       "    }\n",
       "\n",
       "    .dataframe tbody tr th {\n",
       "        vertical-align: top;\n",
       "    }\n",
       "\n",
       "    .dataframe thead th {\n",
       "        text-align: right;\n",
       "    }\n",
       "</style>\n",
       "<table border=\"1\" class=\"dataframe\">\n",
       "  <thead>\n",
       "    <tr style=\"text-align: right;\">\n",
       "      <th></th>\n",
       "      <th>product</th>\n",
       "      <th>price</th>\n",
       "      <th>date</th>\n",
       "      <th>price_min</th>\n",
       "    </tr>\n",
       "  </thead>\n",
       "  <tbody>\n",
       "    <tr>\n",
       "      <th>463476</th>\n",
       "      <td>0-00496</td>\n",
       "      <td>59.62</td>\n",
       "      <td>2020-08-17</td>\n",
       "      <td>59.62</td>\n",
       "    </tr>\n",
       "    <tr>\n",
       "      <th>463475</th>\n",
       "      <td>0-00498</td>\n",
       "      <td>96.65</td>\n",
       "      <td>2020-08-17</td>\n",
       "      <td>96.65</td>\n",
       "    </tr>\n",
       "    <tr>\n",
       "      <th>834073</th>\n",
       "      <td>003-000884-01-OE</td>\n",
       "      <td>398.68</td>\n",
       "      <td>2020-08-17</td>\n",
       "      <td>398.68</td>\n",
       "    </tr>\n",
       "    <tr>\n",
       "      <th>173447</th>\n",
       "      <td>00385</td>\n",
       "      <td>1.80</td>\n",
       "      <td>2020-08-17</td>\n",
       "      <td>1.80</td>\n",
       "    </tr>\n",
       "    <tr>\n",
       "      <th>173475</th>\n",
       "      <td>00388</td>\n",
       "      <td>2.48</td>\n",
       "      <td>2020-08-17</td>\n",
       "      <td>2.48</td>\n",
       "    </tr>\n",
       "    <tr>\n",
       "      <th>...</th>\n",
       "      <td>...</td>\n",
       "      <td>...</td>\n",
       "      <td>...</td>\n",
       "      <td>...</td>\n",
       "    </tr>\n",
       "    <tr>\n",
       "      <th>466408</th>\n",
       "      <td>ZT62062-T01A100Z</td>\n",
       "      <td>4001.17</td>\n",
       "      <td>2020-08-17</td>\n",
       "      <td>4001.17</td>\n",
       "    </tr>\n",
       "    <tr>\n",
       "      <th>466414</th>\n",
       "      <td>ZT62063-T010100Z</td>\n",
       "      <td>3797.41</td>\n",
       "      <td>2020-08-17</td>\n",
       "      <td>3797.41</td>\n",
       "    </tr>\n",
       "    <tr>\n",
       "      <th>466415</th>\n",
       "      <td>ZT62063-T01A100Z</td>\n",
       "      <td>4140.69</td>\n",
       "      <td>2020-08-17</td>\n",
       "      <td>4140.69</td>\n",
       "    </tr>\n",
       "    <tr>\n",
       "      <th>466420</th>\n",
       "      <td>ZT62063-T110100Z</td>\n",
       "      <td>4344.44</td>\n",
       "      <td>2020-08-17</td>\n",
       "      <td>4344.44</td>\n",
       "    </tr>\n",
       "    <tr>\n",
       "      <th>476823</th>\n",
       "      <td>ZUCUBJCK</td>\n",
       "      <td>16.74</td>\n",
       "      <td>2020-08-17</td>\n",
       "      <td>16.74</td>\n",
       "    </tr>\n",
       "  </tbody>\n",
       "</table>\n",
       "<p>30672 rows × 4 columns</p>\n",
       "</div>"
      ],
      "text/plain": [
       "                 product    price       date  price_min\n",
       "463476           0-00496    59.62 2020-08-17      59.62\n",
       "463475           0-00498    96.65 2020-08-17      96.65\n",
       "834073  003-000884-01-OE   398.68 2020-08-17     398.68\n",
       "173447             00385     1.80 2020-08-17       1.80\n",
       "173475             00388     2.48 2020-08-17       2.48\n",
       "...                  ...      ...        ...        ...\n",
       "466408  ZT62062-T01A100Z  4001.17 2020-08-17    4001.17\n",
       "466414  ZT62063-T010100Z  3797.41 2020-08-17    3797.41\n",
       "466415  ZT62063-T01A100Z  4140.69 2020-08-17    4140.69\n",
       "466420  ZT62063-T110100Z  4344.44 2020-08-17    4344.44\n",
       "476823          ZUCUBJCK    16.74 2020-08-17      16.74\n",
       "\n",
       "[30672 rows x 4 columns]"
      ]
     },
     "execution_count": 68,
     "metadata": {},
     "output_type": "execute_result"
    }
   ],
   "source": [
    "p_min"
   ]
  },
  {
   "cell_type": "code",
   "execution_count": 64,
   "id": "702b8f35",
   "metadata": {},
   "outputs": [],
   "source": [
    "p_max = p_max.drop(['price','date'], axis=1)"
   ]
  },
  {
   "cell_type": "code",
   "execution_count": 65,
   "id": "cb21e6b0",
   "metadata": {},
   "outputs": [
    {
     "data": {
      "text/html": [
       "<div>\n",
       "<style scoped>\n",
       "    .dataframe tbody tr th:only-of-type {\n",
       "        vertical-align: middle;\n",
       "    }\n",
       "\n",
       "    .dataframe tbody tr th {\n",
       "        vertical-align: top;\n",
       "    }\n",
       "\n",
       "    .dataframe thead th {\n",
       "        text-align: right;\n",
       "    }\n",
       "</style>\n",
       "<table border=\"1\" class=\"dataframe\">\n",
       "  <thead>\n",
       "    <tr style=\"text-align: right;\">\n",
       "      <th></th>\n",
       "      <th>product</th>\n",
       "      <th>price_max</th>\n",
       "    </tr>\n",
       "  </thead>\n",
       "  <tbody>\n",
       "    <tr>\n",
       "      <th>1728303</th>\n",
       "      <td>0-00496</td>\n",
       "      <td>59.62</td>\n",
       "    </tr>\n",
       "    <tr>\n",
       "      <th>463475</th>\n",
       "      <td>0-00498</td>\n",
       "      <td>96.65</td>\n",
       "    </tr>\n",
       "    <tr>\n",
       "      <th>2098347</th>\n",
       "      <td>003-000884-01-OE</td>\n",
       "      <td>398.68</td>\n",
       "    </tr>\n",
       "    <tr>\n",
       "      <th>1438732</th>\n",
       "      <td>00385</td>\n",
       "      <td>1.80</td>\n",
       "    </tr>\n",
       "    <tr>\n",
       "      <th>1438760</th>\n",
       "      <td>00388</td>\n",
       "      <td>2.48</td>\n",
       "    </tr>\n",
       "    <tr>\n",
       "      <th>...</th>\n",
       "      <td>...</td>\n",
       "      <td>...</td>\n",
       "    </tr>\n",
       "    <tr>\n",
       "      <th>1731234</th>\n",
       "      <td>ZT62062-T01A100Z</td>\n",
       "      <td>4001.17</td>\n",
       "    </tr>\n",
       "    <tr>\n",
       "      <th>2356040</th>\n",
       "      <td>ZT62063-T010100Z</td>\n",
       "      <td>3797.41</td>\n",
       "    </tr>\n",
       "    <tr>\n",
       "      <th>1731241</th>\n",
       "      <td>ZT62063-T01A100Z</td>\n",
       "      <td>4140.69</td>\n",
       "    </tr>\n",
       "    <tr>\n",
       "      <th>1731246</th>\n",
       "      <td>ZT62063-T110100Z</td>\n",
       "      <td>4344.44</td>\n",
       "    </tr>\n",
       "    <tr>\n",
       "      <th>1741603</th>\n",
       "      <td>ZUCUBJCK</td>\n",
       "      <td>16.74</td>\n",
       "    </tr>\n",
       "  </tbody>\n",
       "</table>\n",
       "<p>30672 rows × 2 columns</p>\n",
       "</div>"
      ],
      "text/plain": [
       "                  product  price_max\n",
       "1728303           0-00496      59.62\n",
       "463475            0-00498      96.65\n",
       "2098347  003-000884-01-OE     398.68\n",
       "1438732             00385       1.80\n",
       "1438760             00388       2.48\n",
       "...                   ...        ...\n",
       "1731234  ZT62062-T01A100Z    4001.17\n",
       "2356040  ZT62063-T010100Z    3797.41\n",
       "1731241  ZT62063-T01A100Z    4140.69\n",
       "1731246  ZT62063-T110100Z    4344.44\n",
       "1741603          ZUCUBJCK      16.74\n",
       "\n",
       "[30672 rows x 2 columns]"
      ]
     },
     "execution_count": 65,
     "metadata": {},
     "output_type": "execute_result"
    }
   ],
   "source": [
    "p_max"
   ]
  },
  {
   "cell_type": "code",
   "execution_count": 69,
   "id": "51638aa8",
   "metadata": {},
   "outputs": [],
   "source": [
    "p_min = p_min.drop(['price','date'], axis=1)"
   ]
  },
  {
   "cell_type": "code",
   "execution_count": 70,
   "id": "8928ca29",
   "metadata": {},
   "outputs": [
    {
     "data": {
      "text/html": [
       "<div>\n",
       "<style scoped>\n",
       "    .dataframe tbody tr th:only-of-type {\n",
       "        vertical-align: middle;\n",
       "    }\n",
       "\n",
       "    .dataframe tbody tr th {\n",
       "        vertical-align: top;\n",
       "    }\n",
       "\n",
       "    .dataframe thead th {\n",
       "        text-align: right;\n",
       "    }\n",
       "</style>\n",
       "<table border=\"1\" class=\"dataframe\">\n",
       "  <thead>\n",
       "    <tr style=\"text-align: right;\">\n",
       "      <th></th>\n",
       "      <th>product</th>\n",
       "      <th>price_min</th>\n",
       "    </tr>\n",
       "  </thead>\n",
       "  <tbody>\n",
       "    <tr>\n",
       "      <th>463476</th>\n",
       "      <td>0-00496</td>\n",
       "      <td>59.62</td>\n",
       "    </tr>\n",
       "    <tr>\n",
       "      <th>463475</th>\n",
       "      <td>0-00498</td>\n",
       "      <td>96.65</td>\n",
       "    </tr>\n",
       "    <tr>\n",
       "      <th>834073</th>\n",
       "      <td>003-000884-01-OE</td>\n",
       "      <td>398.68</td>\n",
       "    </tr>\n",
       "    <tr>\n",
       "      <th>173447</th>\n",
       "      <td>00385</td>\n",
       "      <td>1.80</td>\n",
       "    </tr>\n",
       "    <tr>\n",
       "      <th>173475</th>\n",
       "      <td>00388</td>\n",
       "      <td>2.48</td>\n",
       "    </tr>\n",
       "    <tr>\n",
       "      <th>...</th>\n",
       "      <td>...</td>\n",
       "      <td>...</td>\n",
       "    </tr>\n",
       "    <tr>\n",
       "      <th>466408</th>\n",
       "      <td>ZT62062-T01A100Z</td>\n",
       "      <td>4001.17</td>\n",
       "    </tr>\n",
       "    <tr>\n",
       "      <th>466414</th>\n",
       "      <td>ZT62063-T010100Z</td>\n",
       "      <td>3797.41</td>\n",
       "    </tr>\n",
       "    <tr>\n",
       "      <th>466415</th>\n",
       "      <td>ZT62063-T01A100Z</td>\n",
       "      <td>4140.69</td>\n",
       "    </tr>\n",
       "    <tr>\n",
       "      <th>466420</th>\n",
       "      <td>ZT62063-T110100Z</td>\n",
       "      <td>4344.44</td>\n",
       "    </tr>\n",
       "    <tr>\n",
       "      <th>476823</th>\n",
       "      <td>ZUCUBJCK</td>\n",
       "      <td>16.74</td>\n",
       "    </tr>\n",
       "  </tbody>\n",
       "</table>\n",
       "<p>30672 rows × 2 columns</p>\n",
       "</div>"
      ],
      "text/plain": [
       "                 product  price_min\n",
       "463476           0-00496      59.62\n",
       "463475           0-00498      96.65\n",
       "834073  003-000884-01-OE     398.68\n",
       "173447             00385       1.80\n",
       "173475             00388       2.48\n",
       "...                  ...        ...\n",
       "466408  ZT62062-T01A100Z    4001.17\n",
       "466414  ZT62063-T010100Z    3797.41\n",
       "466415  ZT62063-T01A100Z    4140.69\n",
       "466420  ZT62063-T110100Z    4344.44\n",
       "476823          ZUCUBJCK      16.74\n",
       "\n",
       "[30672 rows x 2 columns]"
      ]
     },
     "execution_count": 70,
     "metadata": {},
     "output_type": "execute_result"
    }
   ],
   "source": [
    "p_min"
   ]
  },
  {
   "cell_type": "code",
   "execution_count": 71,
   "id": "469784f9",
   "metadata": {},
   "outputs": [],
   "source": [
    "final = pd.merge(p_max, p_min , on='product', how='outer') # mergin two new column on producat column"
   ]
  },
  {
   "cell_type": "code",
   "execution_count": 72,
   "id": "686dfd94",
   "metadata": {},
   "outputs": [],
   "source": [
    "final['final_price']= final['price_max']-final['price_min']# final price by diffrence on two dates"
   ]
  },
  {
   "cell_type": "code",
   "execution_count": 74,
   "id": "4cfd7b31",
   "metadata": {},
   "outputs": [],
   "source": [
    "pric_Dec = final.sort_values(by=['final_price'], ascending=True ,ignore_index=True)[0:10] # sorting and slicing"
   ]
  },
  {
   "cell_type": "code",
   "execution_count": 75,
   "id": "143b8a78",
   "metadata": {},
   "outputs": [
    {
     "data": {
      "text/plain": [
       "[Text(0.5, 1.0, 'Product whose Price Decreased')]"
      ]
     },
     "execution_count": 75,
     "metadata": {},
     "output_type": "execute_result"
    },
    {
     "data": {
      "image/png": "[encoded data removed]",
      "text/plain": [
       "<Figure size 842.4x595.44 with 1 Axes>"
      ]
     },
     "metadata": {},
     "output_type": "display_data"
    }
   ],
   "source": [
    "sns.barplot(y = 'product',\n",
    "            x = 'final_price',\n",
    "            data = pric_Dec).set(title='Product whose Price Decreased') # bar plot between producat and final price."
   ]
  },
  {
   "cell_type": "code",
   "execution_count": null,
   "id": "adcbb2ec",
   "metadata": {},
   "outputs": [],
   "source": []
  },
  {
   "cell_type": "code",
   "execution_count": null,
   "id": "6e1bf13a",
   "metadata": {},
   "outputs": [],
   "source": []
  },
  {
   "cell_type": "markdown",
   "id": "e2ebd4b8",
   "metadata": {},
   "source": [
    "### 4. Which is the product where you have seen an increase in the price?"
   ]
  },
  {
   "cell_type": "code",
   "execution_count": 73,
   "id": "ca559be8",
   "metadata": {},
   "outputs": [],
   "source": [
    "pric_Inc =final.sort_values(by=['final_price'], ascending=False ,ignore_index=True)[0:10] # sorting and slicing"
   ]
  },
  {
   "cell_type": "code",
   "execution_count": 76,
   "id": "1327f717",
   "metadata": {},
   "outputs": [
    {
     "data": {
      "image/png": "[encoded data removed]",
      "text/plain": [
       "<Figure size 842.4x595.44 with 1 Axes>"
      ]
     },
     "metadata": {},
     "output_type": "display_data"
    }
   ],
   "source": [
    "bar = sns.barplot(y = 'product',\n",
    "            x = 'final_price',\n",
    "            data = pric_Inc).set(title='Product whose Price Increased') # bar plot between producat and final price."
   ]
  },
  {
   "cell_type": "code",
   "execution_count": null,
   "id": "5058ea83",
   "metadata": {},
   "outputs": [],
   "source": []
  },
  {
   "cell_type": "code",
   "execution_count": null,
   "id": "0fab95e1",
   "metadata": {},
   "outputs": [],
   "source": []
  },
  {
   "cell_type": "markdown",
   "id": "f88fbb75",
   "metadata": {},
   "source": [
    "### 5. Which is the top category by price and quantity?"
   ]
  },
  {
   "cell_type": "code",
   "execution_count": 77,
   "id": "d58daf80",
   "metadata": {},
   "outputs": [],
   "source": [
    "cat_grp = df_st.groupby('category').sum() # groupby with respect to category column."
   ]
  },
  {
   "cell_type": "code",
   "execution_count": 78,
   "id": "d5ea7c4d",
   "metadata": {},
   "outputs": [],
   "source": [
    "cat_grp.drop(['Total_Price'], axis=1, inplace=True)"
   ]
  },
  {
   "cell_type": "code",
   "execution_count": 79,
   "id": "d88ef9e6",
   "metadata": {},
   "outputs": [],
   "source": [
    "cat_grp_srt_q_p = cat_grp.sort_values(by=['qty', 'price'],ascending= False)[:10] #sorting"
   ]
  },
  {
   "cell_type": "code",
   "execution_count": 80,
   "id": "84e22f3c",
   "metadata": {},
   "outputs": [],
   "source": [
    "cat_grp_srt_q_p_ind = cat_grp_srt_q_p.reset_index() #resetiing index"
   ]
  },
  {
   "cell_type": "code",
   "execution_count": 83,
   "id": "4e47b493",
   "metadata": {},
   "outputs": [
    {
     "data": {
      "text/html": [
       "<div>\n",
       "<style scoped>\n",
       "    .dataframe tbody tr th:only-of-type {\n",
       "        vertical-align: middle;\n",
       "    }\n",
       "\n",
       "    .dataframe tbody tr th {\n",
       "        vertical-align: top;\n",
       "    }\n",
       "\n",
       "    .dataframe thead th {\n",
       "        text-align: right;\n",
       "    }\n",
       "</style>\n",
       "<table border=\"1\" class=\"dataframe\">\n",
       "  <thead>\n",
       "    <tr style=\"text-align: right;\">\n",
       "      <th></th>\n",
       "      <th>category</th>\n",
       "      <th>qty</th>\n",
       "      <th>price</th>\n",
       "    </tr>\n",
       "  </thead>\n",
       "  <tbody>\n",
       "    <tr>\n",
       "      <th>0</th>\n",
       "      <td>1221</td>\n",
       "      <td>17378795</td>\n",
       "      <td>346527.07</td>\n",
       "    </tr>\n",
       "    <tr>\n",
       "      <th>1</th>\n",
       "      <td>2220</td>\n",
       "      <td>12851216</td>\n",
       "      <td>1741955.11</td>\n",
       "    </tr>\n",
       "    <tr>\n",
       "      <th>2</th>\n",
       "      <td>9970</td>\n",
       "      <td>8618185</td>\n",
       "      <td>1389155.66</td>\n",
       "    </tr>\n",
       "    <tr>\n",
       "      <th>3</th>\n",
       "      <td>2240</td>\n",
       "      <td>8264370</td>\n",
       "      <td>1520556.20</td>\n",
       "    </tr>\n",
       "    <tr>\n",
       "      <th>4</th>\n",
       "      <td>3350</td>\n",
       "      <td>7068656</td>\n",
       "      <td>580035.13</td>\n",
       "    </tr>\n",
       "    <tr>\n",
       "      <th>5</th>\n",
       "      <td>9995</td>\n",
       "      <td>5015339</td>\n",
       "      <td>970241.61</td>\n",
       "    </tr>\n",
       "    <tr>\n",
       "      <th>6</th>\n",
       "      <td>303</td>\n",
       "      <td>4902118</td>\n",
       "      <td>4544824.27</td>\n",
       "    </tr>\n",
       "    <tr>\n",
       "      <th>7</th>\n",
       "      <td>2201</td>\n",
       "      <td>4715114</td>\n",
       "      <td>558368.49</td>\n",
       "    </tr>\n",
       "    <tr>\n",
       "      <th>8</th>\n",
       "      <td>1251</td>\n",
       "      <td>4347126</td>\n",
       "      <td>13541.88</td>\n",
       "    </tr>\n",
       "    <tr>\n",
       "      <th>9</th>\n",
       "      <td>101</td>\n",
       "      <td>3877634</td>\n",
       "      <td>11079362.36</td>\n",
       "    </tr>\n",
       "  </tbody>\n",
       "</table>\n",
       "</div>"
      ],
      "text/plain": [
       "  category       qty        price\n",
       "0     1221  17378795    346527.07\n",
       "1     2220  12851216   1741955.11\n",
       "2     9970   8618185   1389155.66\n",
       "3     2240   8264370   1520556.20\n",
       "4     3350   7068656    580035.13\n",
       "5     9995   5015339    970241.61\n",
       "6      303   4902118   4544824.27\n",
       "7     2201   4715114    558368.49\n",
       "8     1251   4347126     13541.88\n",
       "9      101   3877634  11079362.36"
      ]
     },
     "execution_count": 83,
     "metadata": {},
     "output_type": "execute_result"
    }
   ],
   "source": [
    "cat_grp_srt_q_p_ind"
   ]
  },
  {
   "cell_type": "code",
   "execution_count": null,
   "id": "e40f27eb",
   "metadata": {},
   "outputs": [],
   "source": []
  },
  {
   "cell_type": "markdown",
   "id": "5dcd1c7e",
   "metadata": {},
   "source": [
    "### 6. Which products are aging?"
   ]
  },
  {
   "cell_type": "code",
   "execution_count": 95,
   "id": "292a87c7",
   "metadata": {},
   "outputs": [
    {
     "data": {
      "text/html": [
       "<div>\n",
       "<style scoped>\n",
       "    .dataframe tbody tr th:only-of-type {\n",
       "        vertical-align: middle;\n",
       "    }\n",
       "\n",
       "    .dataframe tbody tr th {\n",
       "        vertical-align: top;\n",
       "    }\n",
       "\n",
       "    .dataframe thead th {\n",
       "        text-align: right;\n",
       "    }\n",
       "</style>\n",
       "<table border=\"1\" class=\"dataframe\">\n",
       "  <thead>\n",
       "    <tr style=\"text-align: right;\">\n",
       "      <th></th>\n",
       "      <th>category</th>\n",
       "      <th>manufacturer</th>\n",
       "      <th>product</th>\n",
       "      <th>qty</th>\n",
       "      <th>price</th>\n",
       "      <th>date</th>\n",
       "      <th>Total_Price</th>\n",
       "    </tr>\n",
       "  </thead>\n",
       "  <tbody>\n",
       "    <tr>\n",
       "      <th>253</th>\n",
       "      <td>9920</td>\n",
       "      <td>CASE LOGIC-PERSONAL &amp; PORTABLE</td>\n",
       "      <td>3200943</td>\n",
       "      <td>7</td>\n",
       "      <td>99.00</td>\n",
       "      <td>2020-08-17</td>\n",
       "      <td>693.00</td>\n",
       "    </tr>\n",
       "    <tr>\n",
       "      <th>271</th>\n",
       "      <td>531</td>\n",
       "      <td>OMNITRON SYSTEMS</td>\n",
       "      <td>7206-0</td>\n",
       "      <td>2</td>\n",
       "      <td>59.09</td>\n",
       "      <td>2020-08-17</td>\n",
       "      <td>118.18</td>\n",
       "    </tr>\n",
       "    <tr>\n",
       "      <th>320</th>\n",
       "      <td>9070</td>\n",
       "      <td>ZEBRA ENTERPRISE MCD-A1</td>\n",
       "      <td>SAC5070-800CR</td>\n",
       "      <td>3</td>\n",
       "      <td>500.06</td>\n",
       "      <td>2020-08-17</td>\n",
       "      <td>1500.18</td>\n",
       "    </tr>\n",
       "    <tr>\n",
       "      <th>324</th>\n",
       "      <td>9080</td>\n",
       "      <td>ZEBRA ENTERPRISE MCD-A1</td>\n",
       "      <td>KT-CLMPT-RS507-01R</td>\n",
       "      <td>115</td>\n",
       "      <td>86.34</td>\n",
       "      <td>2020-08-17</td>\n",
       "      <td>9929.10</td>\n",
       "    </tr>\n",
       "    <tr>\n",
       "      <th>326</th>\n",
       "      <td>9080</td>\n",
       "      <td>ZEBRA ENTERPRISE MCD-A1</td>\n",
       "      <td>KT-PAD-RS507-10R</td>\n",
       "      <td>42</td>\n",
       "      <td>51.80</td>\n",
       "      <td>2020-08-17</td>\n",
       "      <td>2175.60</td>\n",
       "    </tr>\n",
       "    <tr>\n",
       "      <th>...</th>\n",
       "      <td>...</td>\n",
       "      <td>...</td>\n",
       "      <td>...</td>\n",
       "      <td>...</td>\n",
       "      <td>...</td>\n",
       "      <td>...</td>\n",
       "      <td>...</td>\n",
       "    </tr>\n",
       "    <tr>\n",
       "      <th>2627921</th>\n",
       "      <td>9945</td>\n",
       "      <td>VERBATIM CORPORATION</td>\n",
       "      <td>93975</td>\n",
       "      <td>12</td>\n",
       "      <td>50.53</td>\n",
       "      <td>2020-08-28</td>\n",
       "      <td>606.36</td>\n",
       "    </tr>\n",
       "    <tr>\n",
       "      <th>2627922</th>\n",
       "      <td>9945</td>\n",
       "      <td>VERBATIM CORPORATION</td>\n",
       "      <td>93975</td>\n",
       "      <td>12</td>\n",
       "      <td>50.53</td>\n",
       "      <td>2020-08-28</td>\n",
       "      <td>606.36</td>\n",
       "    </tr>\n",
       "    <tr>\n",
       "      <th>2627923</th>\n",
       "      <td>9945</td>\n",
       "      <td>VERBATIM CORPORATION</td>\n",
       "      <td>93975</td>\n",
       "      <td>12</td>\n",
       "      <td>50.53</td>\n",
       "      <td>2020-08-28</td>\n",
       "      <td>606.36</td>\n",
       "    </tr>\n",
       "    <tr>\n",
       "      <th>2627924</th>\n",
       "      <td>9945</td>\n",
       "      <td>VERBATIM CORPORATION</td>\n",
       "      <td>93975</td>\n",
       "      <td>12</td>\n",
       "      <td>50.53</td>\n",
       "      <td>2020-08-28</td>\n",
       "      <td>606.36</td>\n",
       "    </tr>\n",
       "    <tr>\n",
       "      <th>2627925</th>\n",
       "      <td>9945</td>\n",
       "      <td>VERBATIM CORPORATION</td>\n",
       "      <td>93975</td>\n",
       "      <td>12</td>\n",
       "      <td>50.53</td>\n",
       "      <td>2020-08-28</td>\n",
       "      <td>606.36</td>\n",
       "    </tr>\n",
       "  </tbody>\n",
       "</table>\n",
       "<p>713788 rows × 7 columns</p>\n",
       "</div>"
      ],
      "text/plain": [
       "        category                    manufacturer             product  qty  \\\n",
       "253         9920  CASE LOGIC-PERSONAL & PORTABLE             3200943    7   \n",
       "271          531                OMNITRON SYSTEMS              7206-0    2   \n",
       "320         9070         ZEBRA ENTERPRISE MCD-A1       SAC5070-800CR    3   \n",
       "324         9080         ZEBRA ENTERPRISE MCD-A1  KT-CLMPT-RS507-01R  115   \n",
       "326         9080         ZEBRA ENTERPRISE MCD-A1    KT-PAD-RS507-10R   42   \n",
       "...          ...                             ...                 ...  ...   \n",
       "2627921     9945            VERBATIM CORPORATION               93975   12   \n",
       "2627922     9945            VERBATIM CORPORATION               93975   12   \n",
       "2627923     9945            VERBATIM CORPORATION               93975   12   \n",
       "2627924     9945            VERBATIM CORPORATION               93975   12   \n",
       "2627925     9945            VERBATIM CORPORATION               93975   12   \n",
       "\n",
       "          price       date  Total_Price  \n",
       "253       99.00 2020-08-17       693.00  \n",
       "271       59.09 2020-08-17       118.18  \n",
       "320      500.06 2020-08-17      1500.18  \n",
       "324       86.34 2020-08-17      9929.10  \n",
       "326       51.80 2020-08-17      2175.60  \n",
       "...         ...        ...          ...  \n",
       "2627921   50.53 2020-08-28       606.36  \n",
       "2627922   50.53 2020-08-28       606.36  \n",
       "2627923   50.53 2020-08-28       606.36  \n",
       "2627924   50.53 2020-08-28       606.36  \n",
       "2627925   50.53 2020-08-28       606.36  \n",
       "\n",
       "[713788 rows x 7 columns]"
      ]
     },
     "execution_count": 95,
     "metadata": {},
     "output_type": "execute_result"
    }
   ],
   "source": [
    "df_st"
   ]
  },
  {
   "cell_type": "code",
   "execution_count": 96,
   "id": "e15f3289",
   "metadata": {},
   "outputs": [],
   "source": [
    "qty_01 = df_st.drop(['manufacturer', 'category','price','Total_Price'], axis=1)"
   ]
  },
  {
   "cell_type": "code",
   "execution_count": 97,
   "id": "df6f6c74",
   "metadata": {},
   "outputs": [],
   "source": [
    "q_max = qty_01.loc[qty_01.groupby('qty').date.idxmax(),:] # quantity on recent date , higher  quantity on recent date left more aged"
   ]
  },
  {
   "cell_type": "code",
   "execution_count": 98,
   "id": "ec37ee29",
   "metadata": {},
   "outputs": [],
   "source": [
    "qty_Inc =q_max.sort_values(by=['qty'], ascending=False ,ignore_index=True)[0:10] # sorting and silicing"
   ]
  },
  {
   "cell_type": "code",
   "execution_count": 99,
   "id": "4413e64e",
   "metadata": {},
   "outputs": [
    {
     "data": {
      "text/plain": [
       "[Text(0.5, 1.0, 'Aged Product')]"
      ]
     },
     "execution_count": 99,
     "metadata": {},
     "output_type": "execute_result"
    },
    {
     "data": {
      "image/png": "[encoded data removed]",
      "text/plain": [
       "<Figure size 842.4x595.44 with 1 Axes>"
      ]
     },
     "metadata": {},
     "output_type": "display_data"
    }
   ],
   "source": [
    "sns.barplot(x = 'product',\n",
    "            y = 'qty',\n",
    "            data =qty_Inc ).set(title='Aged Product') # bar plot"
   ]
  },
  {
   "cell_type": "code",
   "execution_count": null,
   "id": "63a0d935",
   "metadata": {},
   "outputs": [],
   "source": []
  },
  {
   "cell_type": "markdown",
   "id": "1b7ab6a7",
   "metadata": {},
   "source": [
    "### 7. How to Decrease Product aging?"
   ]
  },
  {
   "cell_type": "markdown",
   "id": "0cf29418",
   "metadata": {},
   "source": [
    "Keeping aging SKUs can have a significant negative impact on your cash flow and daily operations.\n",
    "\n",
    "Here are five strategies for dealing with unsold, aging inventory.\n",
    "\n",
    "    1. Shift Inventory To Non-Prime Locations\n",
    "    2. Liquidation\n",
    "    3. Clearance/Sales\n",
    "    4. Donation"
   ]
  },
  {
   "cell_type": "code",
   "execution_count": null,
   "id": "12214518",
   "metadata": {},
   "outputs": [],
   "source": []
  },
  {
   "cell_type": "markdown",
   "id": "094c832e",
   "metadata": {},
   "source": [
    "## For Data Not In Stock:"
   ]
  },
  {
   "cell_type": "code",
   "execution_count": null,
   "id": "72b6317b",
   "metadata": {},
   "outputs": [],
   "source": [
    "df_nos"
   ]
  },
  {
   "cell_type": "code",
   "execution_count": 100,
   "id": "2b4b6a87",
   "metadata": {},
   "outputs": [
    {
     "data": {
      "text/html": [
       "<div>\n",
       "<style scoped>\n",
       "    .dataframe tbody tr th:only-of-type {\n",
       "        vertical-align: middle;\n",
       "    }\n",
       "\n",
       "    .dataframe tbody tr th {\n",
       "        vertical-align: top;\n",
       "    }\n",
       "\n",
       "    .dataframe thead th {\n",
       "        text-align: right;\n",
       "    }\n",
       "</style>\n",
       "<table border=\"1\" class=\"dataframe\">\n",
       "  <thead>\n",
       "    <tr style=\"text-align: right;\">\n",
       "      <th></th>\n",
       "      <th>category</th>\n",
       "      <th>manufacturer</th>\n",
       "      <th>product</th>\n",
       "      <th>qty</th>\n",
       "      <th>price</th>\n",
       "      <th>date</th>\n",
       "    </tr>\n",
       "  </thead>\n",
       "  <tbody>\n",
       "    <tr>\n",
       "      <th>0</th>\n",
       "      <td>1539</td>\n",
       "      <td>MS-OPEN VALUE SUBSCRIPTION</td>\n",
       "      <td>021-09108</td>\n",
       "      <td>0</td>\n",
       "      <td>143.58</td>\n",
       "      <td>2020-08-17</td>\n",
       "    </tr>\n",
       "    <tr>\n",
       "      <th>1</th>\n",
       "      <td>1539</td>\n",
       "      <td>MS-OPEN VALUE SUBSCRIPTION</td>\n",
       "      <td>059-07014</td>\n",
       "      <td>0</td>\n",
       "      <td>56.09</td>\n",
       "      <td>2020-08-17</td>\n",
       "    </tr>\n",
       "    <tr>\n",
       "      <th>2</th>\n",
       "      <td>1539</td>\n",
       "      <td>MS-OPEN VALUE SUBSCRIPTION</td>\n",
       "      <td>065-06444</td>\n",
       "      <td>0</td>\n",
       "      <td>56.09</td>\n",
       "      <td>2020-08-17</td>\n",
       "    </tr>\n",
       "    <tr>\n",
       "      <th>3</th>\n",
       "      <td>1539</td>\n",
       "      <td>MS-OPEN VALUE SUBSCRIPTION</td>\n",
       "      <td>076-04355</td>\n",
       "      <td>0</td>\n",
       "      <td>217.60</td>\n",
       "      <td>2020-08-17</td>\n",
       "    </tr>\n",
       "    <tr>\n",
       "      <th>4</th>\n",
       "      <td>1582</td>\n",
       "      <td>MS-OPEN VALUE SUBSCRIPTION</td>\n",
       "      <td>077-05318</td>\n",
       "      <td>0</td>\n",
       "      <td>56.09</td>\n",
       "      <td>2020-08-17</td>\n",
       "    </tr>\n",
       "    <tr>\n",
       "      <th>...</th>\n",
       "      <td>...</td>\n",
       "      <td>...</td>\n",
       "      <td>...</td>\n",
       "      <td>...</td>\n",
       "      <td>...</td>\n",
       "      <td>...</td>\n",
       "    </tr>\n",
       "    <tr>\n",
       "      <th>2627418</th>\n",
       "      <td>3360</td>\n",
       "      <td>TARGUS</td>\n",
       "      <td>AMB580TT</td>\n",
       "      <td>0</td>\n",
       "      <td>19.53</td>\n",
       "      <td>2020-08-28</td>\n",
       "    </tr>\n",
       "    <tr>\n",
       "      <th>2627775</th>\n",
       "      <td>505</td>\n",
       "      <td>ENGENIUS</td>\n",
       "      <td>EAP1300</td>\n",
       "      <td>0</td>\n",
       "      <td>85.24</td>\n",
       "      <td>2020-08-28</td>\n",
       "    </tr>\n",
       "    <tr>\n",
       "      <th>2627822</th>\n",
       "      <td>9910</td>\n",
       "      <td>KINGSTON</td>\n",
       "      <td>HX-MPFS-SM</td>\n",
       "      <td>0</td>\n",
       "      <td>13.75</td>\n",
       "      <td>2020-08-28</td>\n",
       "    </tr>\n",
       "    <tr>\n",
       "      <th>2627853</th>\n",
       "      <td>291</td>\n",
       "      <td>KINGSTON TECHNOLOGY FLASH</td>\n",
       "      <td>SD10VG2/16GBCP</td>\n",
       "      <td>0</td>\n",
       "      <td>16.51</td>\n",
       "      <td>2020-08-28</td>\n",
       "    </tr>\n",
       "    <tr>\n",
       "      <th>2627857</th>\n",
       "      <td>291</td>\n",
       "      <td>KINGSTON</td>\n",
       "      <td>IKD300S/4GB</td>\n",
       "      <td>0</td>\n",
       "      <td>52.83</td>\n",
       "      <td>2020-08-28</td>\n",
       "    </tr>\n",
       "  </tbody>\n",
       "</table>\n",
       "<p>1914138 rows × 6 columns</p>\n",
       "</div>"
      ],
      "text/plain": [
       "        category                manufacturer         product  qty   price  \\\n",
       "0           1539  MS-OPEN VALUE SUBSCRIPTION       021-09108    0  143.58   \n",
       "1           1539  MS-OPEN VALUE SUBSCRIPTION       059-07014    0   56.09   \n",
       "2           1539  MS-OPEN VALUE SUBSCRIPTION       065-06444    0   56.09   \n",
       "3           1539  MS-OPEN VALUE SUBSCRIPTION       076-04355    0  217.60   \n",
       "4           1582  MS-OPEN VALUE SUBSCRIPTION       077-05318    0   56.09   \n",
       "...          ...                         ...             ...  ...     ...   \n",
       "2627418     3360                      TARGUS        AMB580TT    0   19.53   \n",
       "2627775      505                    ENGENIUS         EAP1300    0   85.24   \n",
       "2627822     9910                    KINGSTON      HX-MPFS-SM    0   13.75   \n",
       "2627853      291   KINGSTON TECHNOLOGY FLASH  SD10VG2/16GBCP    0   16.51   \n",
       "2627857      291                    KINGSTON     IKD300S/4GB    0   52.83   \n",
       "\n",
       "              date  \n",
       "0       2020-08-17  \n",
       "1       2020-08-17  \n",
       "2       2020-08-17  \n",
       "3       2020-08-17  \n",
       "4       2020-08-17  \n",
       "...            ...  \n",
       "2627418 2020-08-28  \n",
       "2627775 2020-08-28  \n",
       "2627822 2020-08-28  \n",
       "2627853 2020-08-28  \n",
       "2627857 2020-08-28  \n",
       "\n",
       "[1914138 rows x 6 columns]"
      ]
     },
     "execution_count": 100,
     "metadata": {},
     "output_type": "execute_result"
    }
   ],
   "source": [
    "df_nos.drop([\"status\"], axis=1) # no need of stock column now so dropping"
   ]
  },
  {
   "cell_type": "code",
   "execution_count": null,
   "id": "2316133e",
   "metadata": {},
   "outputs": [],
   "source": []
  },
  {
   "cell_type": "code",
   "execution_count": null,
   "id": "af43b42c",
   "metadata": {},
   "outputs": [],
   "source": []
  },
  {
   "cell_type": "markdown",
   "id": "4d817c27",
   "metadata": {},
   "source": [
    "### 1. Which are the top Manufacturers with price, quantity?"
   ]
  },
  {
   "cell_type": "code",
   "execution_count": null,
   "id": "6f00f754",
   "metadata": {},
   "outputs": [],
   "source": []
  },
  {
   "cell_type": "code",
   "execution_count": 101,
   "id": "02e0cb8b",
   "metadata": {},
   "outputs": [
    {
     "data": {
      "image/png": "[encoded data removed]",
      "text/plain": [
       "<Figure size 842.4x595.44 with 1 Axes>"
      ]
     },
     "metadata": {},
     "output_type": "display_data"
    }
   ],
   "source": [
    "mfg_grp_n = df_nos.groupby('manufacturer').sum() # group by mfg column\n",
    "\n",
    "mfg_sort = mfg_grp_n.sort_values(by=['qty', 'price'],ascending= False)[:10] # sorting and silicing\n",
    "\n",
    "mfg_sort_in_n = mfg_sort.reset_index() # resetting index\n",
    "\n",
    "mfg_sort_in_n\n",
    "\n",
    "sns.set(rc={'figure.figsize':(11.7,8.27)})\n",
    "top_mfg_qty_price_n = sns.barplot(x = 'qty',y = 'price',hue=\"manufacturer\",  data= mfg_sort_in_n).set(title='Top Manufacturers with Price, Quantity')"
   ]
  },
  {
   "cell_type": "code",
   "execution_count": null,
   "id": "33251369",
   "metadata": {},
   "outputs": [],
   "source": []
  },
  {
   "cell_type": "code",
   "execution_count": null,
   "id": "31866a31",
   "metadata": {},
   "outputs": [],
   "source": []
  },
  {
   "cell_type": "markdown",
   "id": "8d9eb1d9",
   "metadata": {},
   "source": [
    "### 2. Which are the most profitable products?"
   ]
  },
  {
   "cell_type": "code",
   "execution_count": 103,
   "id": "2f6515b3",
   "metadata": {},
   "outputs": [
    {
     "data": {
      "image/png": "[encoded data removed]",
      "text/plain": [
       "<Figure size 842.4x595.44 with 1 Axes>"
      ]
     },
     "metadata": {},
     "output_type": "display_data"
    }
   ],
   "source": [
    "pr_tot_grp_n = df_nos.groupby(['product','price'])  # group by\n",
    "\n",
    "top_sort_n = pr_tot_grp_n.sum().sort_values(by='price',ascending=[False])[:10] # sorting and silicing\n",
    "\n",
    "most_profitable_products_n = top_sort_n.reset_index() # resetting index\n",
    "\n",
    "profit_product_n = sns.barplot(x = 'product',y = 'price',data = most_profitable_products_n).set(title='most_profitables_products')"
   ]
  },
  {
   "cell_type": "code",
   "execution_count": 105,
   "id": "bd5edc16",
   "metadata": {},
   "outputs": [
    {
     "data": {
      "text/html": [
       "<div>\n",
       "<style scoped>\n",
       "    .dataframe tbody tr th:only-of-type {\n",
       "        vertical-align: middle;\n",
       "    }\n",
       "\n",
       "    .dataframe tbody tr th {\n",
       "        vertical-align: top;\n",
       "    }\n",
       "\n",
       "    .dataframe thead th {\n",
       "        text-align: right;\n",
       "    }\n",
       "</style>\n",
       "<table border=\"1\" class=\"dataframe\">\n",
       "  <thead>\n",
       "    <tr style=\"text-align: right;\">\n",
       "      <th></th>\n",
       "      <th>category</th>\n",
       "      <th>manufacturer</th>\n",
       "      <th>product</th>\n",
       "      <th>status</th>\n",
       "      <th>qty</th>\n",
       "      <th>price</th>\n",
       "      <th>date</th>\n",
       "    </tr>\n",
       "  </thead>\n",
       "  <tbody>\n",
       "    <tr>\n",
       "      <th>0</th>\n",
       "      <td>1539</td>\n",
       "      <td>MS-OPEN VALUE SUBSCRIPTION</td>\n",
       "      <td>021-09108</td>\n",
       "      <td>No Stock</td>\n",
       "      <td>0</td>\n",
       "      <td>143.58</td>\n",
       "      <td>2020-08-17</td>\n",
       "    </tr>\n",
       "    <tr>\n",
       "      <th>1</th>\n",
       "      <td>1539</td>\n",
       "      <td>MS-OPEN VALUE SUBSCRIPTION</td>\n",
       "      <td>059-07014</td>\n",
       "      <td>No Stock</td>\n",
       "      <td>0</td>\n",
       "      <td>56.09</td>\n",
       "      <td>2020-08-17</td>\n",
       "    </tr>\n",
       "    <tr>\n",
       "      <th>2</th>\n",
       "      <td>1539</td>\n",
       "      <td>MS-OPEN VALUE SUBSCRIPTION</td>\n",
       "      <td>065-06444</td>\n",
       "      <td>No Stock</td>\n",
       "      <td>0</td>\n",
       "      <td>56.09</td>\n",
       "      <td>2020-08-17</td>\n",
       "    </tr>\n",
       "    <tr>\n",
       "      <th>3</th>\n",
       "      <td>1539</td>\n",
       "      <td>MS-OPEN VALUE SUBSCRIPTION</td>\n",
       "      <td>076-04355</td>\n",
       "      <td>No Stock</td>\n",
       "      <td>0</td>\n",
       "      <td>217.60</td>\n",
       "      <td>2020-08-17</td>\n",
       "    </tr>\n",
       "    <tr>\n",
       "      <th>4</th>\n",
       "      <td>1582</td>\n",
       "      <td>MS-OPEN VALUE SUBSCRIPTION</td>\n",
       "      <td>077-05318</td>\n",
       "      <td>No Stock</td>\n",
       "      <td>0</td>\n",
       "      <td>56.09</td>\n",
       "      <td>2020-08-17</td>\n",
       "    </tr>\n",
       "    <tr>\n",
       "      <th>...</th>\n",
       "      <td>...</td>\n",
       "      <td>...</td>\n",
       "      <td>...</td>\n",
       "      <td>...</td>\n",
       "      <td>...</td>\n",
       "      <td>...</td>\n",
       "      <td>...</td>\n",
       "    </tr>\n",
       "    <tr>\n",
       "      <th>2627418</th>\n",
       "      <td>3360</td>\n",
       "      <td>TARGUS</td>\n",
       "      <td>AMB580TT</td>\n",
       "      <td>No Stock</td>\n",
       "      <td>0</td>\n",
       "      <td>19.53</td>\n",
       "      <td>2020-08-28</td>\n",
       "    </tr>\n",
       "    <tr>\n",
       "      <th>2627775</th>\n",
       "      <td>505</td>\n",
       "      <td>ENGENIUS</td>\n",
       "      <td>EAP1300</td>\n",
       "      <td>No Stock</td>\n",
       "      <td>0</td>\n",
       "      <td>85.24</td>\n",
       "      <td>2020-08-28</td>\n",
       "    </tr>\n",
       "    <tr>\n",
       "      <th>2627822</th>\n",
       "      <td>9910</td>\n",
       "      <td>KINGSTON</td>\n",
       "      <td>HX-MPFS-SM</td>\n",
       "      <td>No Stock</td>\n",
       "      <td>0</td>\n",
       "      <td>13.75</td>\n",
       "      <td>2020-08-28</td>\n",
       "    </tr>\n",
       "    <tr>\n",
       "      <th>2627853</th>\n",
       "      <td>291</td>\n",
       "      <td>KINGSTON TECHNOLOGY FLASH</td>\n",
       "      <td>SD10VG2/16GBCP</td>\n",
       "      <td>No Stock</td>\n",
       "      <td>0</td>\n",
       "      <td>16.51</td>\n",
       "      <td>2020-08-28</td>\n",
       "    </tr>\n",
       "    <tr>\n",
       "      <th>2627857</th>\n",
       "      <td>291</td>\n",
       "      <td>KINGSTON</td>\n",
       "      <td>IKD300S/4GB</td>\n",
       "      <td>No Stock</td>\n",
       "      <td>0</td>\n",
       "      <td>52.83</td>\n",
       "      <td>2020-08-28</td>\n",
       "    </tr>\n",
       "  </tbody>\n",
       "</table>\n",
       "<p>1914138 rows × 7 columns</p>\n",
       "</div>"
      ],
      "text/plain": [
       "        category                manufacturer         product    status  qty  \\\n",
       "0           1539  MS-OPEN VALUE SUBSCRIPTION       021-09108  No Stock    0   \n",
       "1           1539  MS-OPEN VALUE SUBSCRIPTION       059-07014  No Stock    0   \n",
       "2           1539  MS-OPEN VALUE SUBSCRIPTION       065-06444  No Stock    0   \n",
       "3           1539  MS-OPEN VALUE SUBSCRIPTION       076-04355  No Stock    0   \n",
       "4           1582  MS-OPEN VALUE SUBSCRIPTION       077-05318  No Stock    0   \n",
       "...          ...                         ...             ...       ...  ...   \n",
       "2627418     3360                      TARGUS        AMB580TT  No Stock    0   \n",
       "2627775      505                    ENGENIUS         EAP1300  No Stock    0   \n",
       "2627822     9910                    KINGSTON      HX-MPFS-SM  No Stock    0   \n",
       "2627853      291   KINGSTON TECHNOLOGY FLASH  SD10VG2/16GBCP  No Stock    0   \n",
       "2627857      291                    KINGSTON     IKD300S/4GB  No Stock    0   \n",
       "\n",
       "          price       date  \n",
       "0        143.58 2020-08-17  \n",
       "1         56.09 2020-08-17  \n",
       "2         56.09 2020-08-17  \n",
       "3        217.60 2020-08-17  \n",
       "4         56.09 2020-08-17  \n",
       "...         ...        ...  \n",
       "2627418   19.53 2020-08-28  \n",
       "2627775   85.24 2020-08-28  \n",
       "2627822   13.75 2020-08-28  \n",
       "2627853   16.51 2020-08-28  \n",
       "2627857   52.83 2020-08-28  \n",
       "\n",
       "[1914138 rows x 7 columns]"
      ]
     },
     "execution_count": 105,
     "metadata": {},
     "output_type": "execute_result"
    }
   ],
   "source": [
    "df_nos"
   ]
  },
  {
   "cell_type": "markdown",
   "id": "c2d78422",
   "metadata": {},
   "source": [
    "### 3. Which is the product where you have seen a decrease in the price?"
   ]
  },
  {
   "cell_type": "code",
   "execution_count": 113,
   "id": "60620b0e",
   "metadata": {},
   "outputs": [],
   "source": [
    "df_nos\n",
    "\n",
    "pric_02 = df_nos.drop(['manufacturer', 'category','qty'], axis=1)\n",
    "\n",
    "p_max_n = pric_02.loc[pric_02.groupby('product').date.idxmax(),:] #price according to recent date\n",
    "\n",
    "p_min_n = pric_02.loc[pric_02.groupby('product').date.idxmin(),:]  #price according to intial date\n",
    "\n",
    "p_max_n['price_max'] =p_max_n['price']# new column\n",
    "\n",
    "p_min_n['price_min'] =p_min_n['price'] # new column\n",
    "\n",
    "\n",
    "p_max_n = p_max_n.drop(['price','date'], axis=1)\n",
    "\n",
    "\n",
    "p_min_n = p_min_n.drop(['price','date'], axis=1)\n",
    "\n",
    "\n",
    "\n",
    "final_n = pd.merge(p_max_n, p_min_n , on='product', how='outer')# mergin two new column on producat column\n",
    "\n",
    "final_n['final_price']= final_n['price_max']-final_n['price_min']# final price by diffrence on two dates\n",
    "\n",
    "pric_Dec_n = final_n.sort_values(by=['final_price'], ascending=True ,ignore_index=True)[0:10] # sorting and silicing\n"
   ]
  },
  {
   "cell_type": "code",
   "execution_count": 108,
   "id": "abf3e8af",
   "metadata": {},
   "outputs": [
    {
     "data": {
      "text/plain": [
       "[Text(0.5, 1.0, 'Product whose Price Decreased')]"
      ]
     },
     "execution_count": 108,
     "metadata": {},
     "output_type": "execute_result"
    },
    {
     "data": {
      "image/png": "[encoded data removed]",
      "text/plain": [
       "<Figure size 842.4x595.44 with 1 Axes>"
      ]
     },
     "metadata": {},
     "output_type": "display_data"
    }
   ],
   "source": [
    "sns.barplot(y = 'product',\n",
    "            x = 'final_price',\n",
    "            data = pric_Dec_n).set(title='Product whose Price Decreased') # bar plot"
   ]
  },
  {
   "cell_type": "code",
   "execution_count": null,
   "id": "a67cbcff",
   "metadata": {},
   "outputs": [],
   "source": []
  },
  {
   "cell_type": "markdown",
   "id": "6efdf92c",
   "metadata": {},
   "source": [
    "### 4. Which is the product where you have seen an increase in the price?"
   ]
  },
  {
   "cell_type": "code",
   "execution_count": null,
   "id": "10d97284",
   "metadata": {},
   "outputs": [],
   "source": []
  },
  {
   "cell_type": "code",
   "execution_count": 109,
   "id": "88aaeaf7",
   "metadata": {},
   "outputs": [
    {
     "data": {
      "image/png": "[encoded data removed]",
      "text/plain": [
       "<Figure size 842.4x595.44 with 1 Axes>"
      ]
     },
     "metadata": {},
     "output_type": "display_data"
    }
   ],
   "source": [
    "pric_Inc_n =final_n.sort_values(by=['final_price'], ascending=False ,ignore_index=True)[0:10] # sorting and silicing\n",
    "\n",
    "bar = sns.barplot(y = 'product',\n",
    "            x = 'final_price',\n",
    "            data = pric_Inc_n).set(title='Product whose Price Increased') # bar plot"
   ]
  },
  {
   "cell_type": "code",
   "execution_count": null,
   "id": "b0082641",
   "metadata": {},
   "outputs": [],
   "source": []
  },
  {
   "cell_type": "markdown",
   "id": "74a0b040",
   "metadata": {},
   "source": [
    "### 5. Which is the top category by price and quantity?"
   ]
  },
  {
   "cell_type": "code",
   "execution_count": 112,
   "id": "95ba5585",
   "metadata": {},
   "outputs": [
    {
     "data": {
      "text/html": [
       "<div>\n",
       "<style scoped>\n",
       "    .dataframe tbody tr th:only-of-type {\n",
       "        vertical-align: middle;\n",
       "    }\n",
       "\n",
       "    .dataframe tbody tr th {\n",
       "        vertical-align: top;\n",
       "    }\n",
       "\n",
       "    .dataframe thead th {\n",
       "        text-align: right;\n",
       "    }\n",
       "</style>\n",
       "<table border=\"1\" class=\"dataframe\">\n",
       "  <thead>\n",
       "    <tr style=\"text-align: right;\">\n",
       "      <th></th>\n",
       "      <th>category</th>\n",
       "      <th>qty</th>\n",
       "      <th>price</th>\n",
       "    </tr>\n",
       "  </thead>\n",
       "  <tbody>\n",
       "    <tr>\n",
       "      <th>0</th>\n",
       "      <td>1221</td>\n",
       "      <td>0</td>\n",
       "      <td>1.539977e+09</td>\n",
       "    </tr>\n",
       "    <tr>\n",
       "      <th>1</th>\n",
       "      <td>1241</td>\n",
       "      <td>0</td>\n",
       "      <td>6.036206e+08</td>\n",
       "    </tr>\n",
       "    <tr>\n",
       "      <th>2</th>\n",
       "      <td>1231</td>\n",
       "      <td>0</td>\n",
       "      <td>4.445039e+08</td>\n",
       "    </tr>\n",
       "    <tr>\n",
       "      <th>3</th>\n",
       "      <td>1569</td>\n",
       "      <td>0</td>\n",
       "      <td>3.213863e+08</td>\n",
       "    </tr>\n",
       "    <tr>\n",
       "      <th>4</th>\n",
       "      <td>525</td>\n",
       "      <td>0</td>\n",
       "      <td>2.871297e+08</td>\n",
       "    </tr>\n",
       "    <tr>\n",
       "      <th>5</th>\n",
       "      <td>1577</td>\n",
       "      <td>0</td>\n",
       "      <td>2.064920e+08</td>\n",
       "    </tr>\n",
       "    <tr>\n",
       "      <th>6</th>\n",
       "      <td>531</td>\n",
       "      <td>0</td>\n",
       "      <td>1.861489e+08</td>\n",
       "    </tr>\n",
       "    <tr>\n",
       "      <th>7</th>\n",
       "      <td>661</td>\n",
       "      <td>0</td>\n",
       "      <td>1.643297e+08</td>\n",
       "    </tr>\n",
       "    <tr>\n",
       "      <th>8</th>\n",
       "      <td>101</td>\n",
       "      <td>0</td>\n",
       "      <td>1.282264e+08</td>\n",
       "    </tr>\n",
       "    <tr>\n",
       "      <th>9</th>\n",
       "      <td>1582</td>\n",
       "      <td>0</td>\n",
       "      <td>1.120179e+08</td>\n",
       "    </tr>\n",
       "  </tbody>\n",
       "</table>\n",
       "</div>"
      ],
      "text/plain": [
       "  category  qty         price\n",
       "0     1221    0  1.539977e+09\n",
       "1     1241    0  6.036206e+08\n",
       "2     1231    0  4.445039e+08\n",
       "3     1569    0  3.213863e+08\n",
       "4      525    0  2.871297e+08\n",
       "5     1577    0  2.064920e+08\n",
       "6      531    0  1.861489e+08\n",
       "7      661    0  1.643297e+08\n",
       "8      101    0  1.282264e+08\n",
       "9     1582    0  1.120179e+08"
      ]
     },
     "execution_count": 112,
     "metadata": {},
     "output_type": "execute_result"
    }
   ],
   "source": [
    "cat_grp_n = df_nos.groupby('category').sum()  # groupby with respect to category column.\n",
    "\n",
    "\n",
    "cat_grp_srt_q_p_n = cat_grp_n.sort_values(by=['qty', 'price'],ascending= False)[:10] # sorting and silicing\n",
    "\n",
    "cat_grp_srt_q_p_ind_n = cat_grp_srt_q_p_n.reset_index() # resetting index\n",
    "\n",
    "cat_grp_srt_q_p_ind_n"
   ]
  },
  {
   "cell_type": "code",
   "execution_count": null,
   "id": "092d1610",
   "metadata": {},
   "outputs": [],
   "source": []
  },
  {
   "cell_type": "code",
   "execution_count": null,
   "id": "ed6eba68",
   "metadata": {},
   "outputs": [],
   "source": []
  }
 ],
 "metadata": {
  "kernelspec": {
   "display_name": "Python 3 (ipykernel)",
   "language": "python",
   "name": "python3"
  },
  "language_info": {
   "codemirror_mode": {
    "name": "ipython",
    "version": 3
   },
   "file_extension": ".py",
   "mimetype": "text/x-python",
   "name": "python",
   "nbconvert_exporter": "python",
   "pygments_lexer": "ipython3",
   "version": "3.9.7"
  }
 },
 "nbformat": 4,
 "nbformat_minor": 5
}
